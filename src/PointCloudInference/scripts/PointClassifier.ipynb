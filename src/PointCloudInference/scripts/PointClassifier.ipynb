{
 "cells": [
  {
   "cell_type": "code",
   "execution_count": 23,
   "metadata": {},
   "outputs": [],
   "source": [
    "import numpy as np\n",
    "from keras.models import Sequential\n",
    "from keras.layers import Dense, Activation\n",
    "%matplotlib inline\n",
    "\n",
    "def shuffle_in_unison(a, b):\n",
    "    rng_state = np.random.get_state()\n",
    "    np.random.shuffle(a)\n",
    "    np.random.set_state(rng_state)\n",
    "    np.random.shuffle(b)"
   ]
  },
  {
   "cell_type": "code",
   "execution_count": 62,
   "metadata": {},
   "outputs": [
    {
     "name": "stdout",
     "output_type": "stream",
     "text": [
      "Generating 64000 examples...\n",
      "\t\t\tdone.\n"
     ]
    }
   ],
   "source": [
    "import importlib\n",
    "import VoxelDistanceFunctionFileLoader\n",
    "importlib.reload(VoxelDistanceFunctionFileLoader)\n",
    "from VoxelDistanceFunctionFileLoader import VoxelDistanceFunction\n",
    "vdf = VoxelDistanceFunction(\"../data/test_output\")\n",
    "(examples_in, examples_out) = vdf.GenerateOccupancySamples(20, 2)\n",
    "\n",
    "shuffle_in_unison(examples_in, examples_out)\n",
    "\n",
    "N_training = 5000\n",
    "\n",
    "examples_in_train = examples_in[:-N_training, :] \n",
    "examples_in_test = examples_in[-N_training:] \n",
    "\n",
    "examples_out_train = examples_out[:-N_training, :] \n",
    "examples_out_test = examples_out[-N_training:] \n",
    "\n",
    "# ffs\n",
    "examples_in_test_positive = np.vstack([examples_in_test[x, :] for x in np.nonzero(examples_out_test)])"
   ]
  },
  {
   "cell_type": "code",
   "execution_count": 42,
   "metadata": {},
   "outputs": [
    {
     "name": "stdout",
     "output_type": "stream",
     "text": [
      "(59000, 8000) (59000, 1)\n",
      "Train: 444 positive examples, 58556 negative examples\n",
      "(5000, 8000) (5000, 1)\n",
      "Test: 42 positive examples, 4958 negative examples\n"
     ]
    }
   ],
   "source": [
    "# Check some statistics on the training set.\n",
    "num_positive_examples = np.sum(examples_out_train)\n",
    "num_negative_examples = examples_out_train.shape[0] - num_positive_examples\n",
    "print(examples_in_train.shape, examples_out_train.shape)\n",
    "print(\"Train: %d positive examples, %d negative examples\" % (num_positive_examples, num_negative_examples))\n",
    "\n",
    "num_positive_examples = np.sum(examples_out_test)\n",
    "num_negative_examples = examples_out_test.shape[0] - num_positive_examples\n",
    "print (examples_in_test.shape, examples_out_test.shape)\n",
    "print(\"Test: %d positive examples, %d negative examples\" % (num_positive_examples, num_negative_examples))"
   ]
  },
  {
   "cell_type": "code",
   "execution_count": 69,
   "metadata": {},
   "outputs": [
    {
     "name": "stdout",
     "output_type": "stream",
     "text": [
      "Epoch 1/5\n",
      "59000/59000 [==============================] - 3s - loss: 0.1447 - acc: 0.9933     \n",
      "Epoch 2/5\n",
      "59000/59000 [==============================] - 3s - loss: 0.0253 - acc: 0.9965     \n",
      "Epoch 3/5\n",
      "59000/59000 [==============================] - 3s - loss: 0.0213 - acc: 0.9974     \n",
      "Epoch 4/5\n",
      "59000/59000 [==============================] - 3s - loss: 0.0193 - acc: 0.9980     \n",
      "Epoch 5/5\n",
      "59000/59000 [==============================] - 3s - loss: 0.0183 - acc: 0.9982     \n"
     ]
    },
    {
     "data": {
      "text/plain": [
       "<keras.callbacks.History at 0x7ff032488da0>"
      ]
     },
     "execution_count": 69,
     "metadata": {},
     "output_type": "execute_result"
    }
   ],
   "source": [
    "model = Sequential()\n",
    "\n",
    "model.add(Dense(units=16, activation='relu', input_dim=examples_in.shape[1]))\n",
    "model.add(Dense(units=1, activation='sigmoid'))\n",
    "\n",
    "# For a binary classification problem\n",
    "model.compile(optimizer='rmsprop',\n",
    "              loss='binary_crossentropy',\n",
    "              metrics=['accuracy'])\n",
    "\n",
    "# Train the model, iterating on the data in batches of 32 samples\n",
    "model.fit(examples_in_train, examples_out_train, epochs=5, batch_size=64)"
   ]
  },
  {
   "cell_type": "code",
   "execution_count": 70,
   "metadata": {},
   "outputs": [
    {
     "name": "stdout",
     "output_type": "stream",
     "text": [
      "3840/5000 [======================>.......] - ETA: 0s\n",
      "Score:  ['loss: 0.033830', 'acc: 0.996200']\n"
     ]
    }
   ],
   "source": [
    "score = model.evaluate(examples_in_test, examples_out_test, batch_size=128)\n",
    "print(\"\\nScore: \", [\"%s: %f\" % (s, f) for (s, f) in zip(model.metrics_names, score)])"
   ]
  },
  {
   "cell_type": "code",
   "execution_count": 71,
   "metadata": {},
   "outputs": [
    {
     "name": "stdout",
     "output_type": "stream",
     "text": [
      "[[ 0.99754924]\n",
      " [ 0.        ]\n",
      " [ 0.99992192]\n",
      " [ 0.        ]\n",
      " [ 0.99257857]\n",
      " [ 0.96478981]\n",
      " [ 0.00010617]\n",
      " [ 0.97644377]\n",
      " [ 0.99149394]\n",
      " [ 0.99187601]\n",
      " [ 0.95045638]\n",
      " [ 0.86626393]\n",
      " [ 0.9996165 ]\n",
      " [ 0.39521787]\n",
      " [ 0.        ]\n",
      " [ 0.99667192]\n",
      " [ 0.99807346]\n",
      " [ 0.97812498]\n",
      " [ 0.99961901]\n",
      " [ 0.        ]\n",
      " [ 0.98669398]\n",
      " [ 0.99996758]\n",
      " [ 0.9993999 ]\n",
      " [ 0.99998987]\n",
      " [ 0.94958013]\n",
      " [ 0.98219115]\n",
      " [ 0.9999938 ]\n",
      " [ 0.98890752]\n",
      " [ 0.99999511]\n",
      " [ 0.00000005]\n",
      " [ 0.99996316]\n",
      " [ 0.8606301 ]\n",
      " [ 0.99967444]\n",
      " [ 0.99826127]\n",
      " [ 0.02369842]\n",
      " [ 0.99896336]\n",
      " [ 0.99152124]\n",
      " [ 0.9992817 ]\n",
      " [ 0.09918093]\n",
      " [ 0.99963999]\n",
      " [ 0.        ]\n",
      " [ 0.99845767]\n",
      " [ 0.        ]\n",
      " [ 0.        ]\n",
      " [ 0.96104276]\n",
      " [ 0.00000403]\n",
      " [ 0.00000403]\n",
      " [ 0.00000403]\n",
      " [ 0.00000403]\n",
      " [ 0.00000403]\n",
      " [ 0.00000403]\n",
      " [ 0.00000403]\n",
      " [ 0.00000403]\n",
      " [ 0.00000403]\n",
      " [ 0.00000403]\n",
      " [ 0.00000403]\n",
      " [ 0.00000403]\n",
      " [ 0.00000403]\n",
      " [ 0.00000403]\n",
      " [ 0.00000403]\n",
      " [ 0.00000403]\n",
      " [ 0.00000403]\n",
      " [ 0.00000403]\n",
      " [ 0.00000403]\n",
      " [ 0.00000403]\n",
      " [ 0.00000403]\n",
      " [ 0.00000403]\n",
      " [ 0.00000403]\n",
      " [ 0.00000403]\n",
      " [ 0.00000403]\n",
      " [ 0.00000403]\n",
      " [ 0.00000403]\n",
      " [ 0.00000403]\n",
      " [ 0.00000403]\n",
      " [ 0.00000403]\n",
      " [ 0.00000403]\n",
      " [ 0.00000403]\n",
      " [ 0.00000403]\n",
      " [ 0.00000403]\n",
      " [ 0.00000403]\n",
      " [ 0.00000403]\n",
      " [ 0.00000403]\n",
      " [ 0.00000403]\n",
      " [ 0.00000403]\n",
      " [ 0.00000403]\n",
      " [ 0.00000403]\n",
      " [ 0.00000403]\n",
      " [ 0.00000403]\n",
      " [ 0.00000403]\n",
      " [ 0.00000403]]\n"
     ]
    }
   ],
   "source": [
    "examples_predictions_test_positive = model.predict_on_batch(examples_in_test_positive)\n",
    "np.set_printoptions(suppress=True)\n",
    "print(examples_predictions_test_positive)"
   ]
  },
  {
   "cell_type": "code",
   "execution_count": 13,
   "metadata": {},
   "outputs": [
    {
     "name": "stderr",
     "output_type": "stream",
     "text": [
      "/opt/conda/lib/python3.5/site-packages/ipyvolume/serialize.py:66: RuntimeWarning: invalid value encountered in true_divide\n",
      "  gradient = gradient / np.sqrt(gradient[0]**2 + gradient[1]**2 + gradient[2]**2)\n"
     ]
    },
    {
     "data": {
      "application/vnd.jupyter.widget-view+json": {
       "model_id": "4ec5acd2923648fa9ff9ac18356c54b2",
       "version_major": 2,
       "version_minor": 0
      },
      "text/plain": [
       "A Jupyter Widget"
      ]
     },
     "metadata": {},
     "output_type": "display_data"
    }
   ],
   "source": [
    "import ipyvolume\n",
    "import scipy\n",
    "v = vdf.occupancy\n",
    "ipyvolume.quickvolshow(v, lighting=True, width=800, height=400, data_min=np.nanmin(v), data_max=np.nanmax(v))"
   ]
  },
  {
   "cell_type": "code",
   "execution_count": null,
   "metadata": {
    "collapsed": true
   },
   "outputs": [],
   "source": []
  }
 ],
 "metadata": {
  "kernelspec": {
   "display_name": "Python 3",
   "language": "python",
   "name": "python3"
  },
  "language_info": {
   "codemirror_mode": {
    "name": "ipython",
    "version": 3
   },
   "file_extension": ".py",
   "mimetype": "text/x-python",
   "name": "python",
   "nbconvert_exporter": "python",
   "pygments_lexer": "ipython3",
   "version": "3.5.4"
  }
 },
 "nbformat": 4,
 "nbformat_minor": 2
}
