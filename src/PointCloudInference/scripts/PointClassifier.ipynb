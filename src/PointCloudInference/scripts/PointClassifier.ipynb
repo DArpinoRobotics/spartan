{
 "cells": [
  {
   "cell_type": "code",
   "execution_count": 440,
   "metadata": {},
   "outputs": [],
   "source": [
    "import os\n",
    "import numpy as np\n",
    "from keras.models import Sequential\n",
    "from keras.optimizers import Adagrad\n",
    "from keras import regularizers\n",
    "from keras.layers import Dense, Activation, Dropout\n",
    "from keras.layers.convolutional import Conv3D\n",
    "%matplotlib inline\n"
   ]
  },
  {
   "cell_type": "code",
   "execution_count": 441,
   "metadata": {},
   "outputs": [],
   "source": [
    "import importlib\n",
    "import DataLoader\n",
    "importlib.reload(DataLoader)\n",
    "from DataLoader import DataGenerator\n",
    "\n",
    "window_size = 21\n",
    "training_generator = DataGenerator(\"../data/train\", window_size, 32).generate()\n",
    "test_generator = DataGenerator(\"../data/test\", window_size, 32).generate()"
   ]
  },
  {
   "cell_type": "code",
   "execution_count": 442,
   "metadata": {},
   "outputs": [
    {
     "name": "stdout",
     "output_type": "stream",
     "text": [
      "Total 1s: 3158, total 0s: 3242\n"
     ]
    }
   ],
   "source": [
    "# Sample some statistics over the training set\n",
    "total_1s = 0\n",
    "total_0s = 0\n",
    "\n",
    "for i in range(100):\n",
    "    sample_batch_in, sample_batch_out = next(training_generator)\n",
    "    total_1s += np.sum(sample_batch_out == 1)\n",
    "    total_0s += np.sum(sample_batch_out == 0)\n",
    "print(\"Total 1s: %d, total 0s: %d\" % (total_1s, total_0s))"
   ]
  },
  {
   "cell_type": "code",
   "execution_count": 443,
   "metadata": {},
   "outputs": [],
   "source": [
    "model = Sequential()\n",
    "model.add(\n",
    "    Dense(units=8, \n",
    "          activation='relu', \n",
    "          input_dim=2*(window_size**3), \n",
    "          activity_regularizer=regularizers.l1(10e-5)))\n",
    "model.add(Dropout(0.5))\n",
    "model.add(Dense(units=1, activation='sigmoid'))\n",
    "\n",
    "# For a binary classification problem\n",
    "model.compile(optimizer=Adagrad(lr=0.01, epsilon=1e-08, decay=0.0),\n",
    "              loss='binary_crossentropy',\n",
    "              metrics=['accuracy'])"
   ]
  },
  {
   "cell_type": "code",
   "execution_count": null,
   "metadata": {},
   "outputs": [
    {
     "name": "stdout",
     "output_type": "stream",
     "text": [
      "Epoch 1/100\n",
      " 992/2000 [=============>................] - ETA: 6s - loss: 0.3624 - acc: 0.8424"
     ]
    }
   ],
   "source": [
    "# Train the model, iterating on the data in batches of 32 samples\n",
    "model.fit_generator(generator=training_generator,\n",
    "                    steps_per_epoch = 2000,\n",
    "                    epochs=100,\n",
    "                    validation_data = test_generator, \n",
    "                    validation_steps = 1000,\n",
    "                   workers=10)"
   ]
  },
  {
   "cell_type": "code",
   "execution_count": 411,
   "metadata": {},
   "outputs": [
    {
     "name": "stdout",
     "output_type": "stream",
     "text": [
      "(138, 119, 100) (138, 119, 100) 21\n"
     ]
    }
   ],
   "source": [
    "import VoxelDistanceFunctionFileLoader\n",
    "importlib.reload(VoxelDistanceFunctionFileLoader)\n",
    "from VoxelDistanceFunctionFileLoader import VoxelDistanceFunction\n",
    "\n",
    "vdf = VoxelDistanceFunction(\"../data/raw_vdfs/010.vdf\")\n",
    "\n",
    "print(vdf.occupancy.shape, vdf.known.shape, window_size)\n",
    "\n",
    "center = np.array([50, 30, 70])\n",
    "width = np.array([20, 20, 20])\n",
    "step = 1\n",
    "\n",
    "x_range = range(center[0]-width[0], center[0]+width[0], step)\n",
    "y_range = range(center[1]-width[1], center[1]+width[1], step)\n",
    "z_range = range(center[2]-width[2], center[2]+width[2], step)\n",
    "\n",
    "example_volume = np.zeros((int(np.prod(2*width/step)), 2*(window_size**3)))\n",
    "k = 0\n",
    "for x in x_range:\n",
    "    for y in y_range:\n",
    "        for z in z_range:\n",
    "            example_volume[k, :], Y = vdf.GeneratePointwiseSampleAtPoint(window_size, x, y, z)\n",
    "            k += 1\n",
    "example_volume_raw, trash = vdf.GenerateLocalRegionAtPoint(width[0]*2, center[0], center[1], center[2], step)"
   ]
  },
  {
   "cell_type": "code",
   "execution_count": 412,
   "metadata": {},
   "outputs": [
    {
     "name": "stdout",
     "output_type": "stream",
     "text": [
      "[[ 0.00005946]\n",
      " [ 0.00003262]\n",
      " [ 0.00003118]\n",
      " ..., \n",
      " [ 0.00025628]\n",
      " [ 0.00072679]\n",
      " [ 0.0011021 ]]\n"
     ]
    }
   ],
   "source": [
    "example_predictions = model.predict_on_batch(example_volume)\n",
    "np.set_printoptions(suppress=True)\n",
    "print(example_predictions)"
   ]
  },
  {
   "cell_type": "code",
   "execution_count": 413,
   "metadata": {},
   "outputs": [
    {
     "data": {
      "application/vnd.jupyter.widget-view+json": {
       "model_id": "5ff612814ea540109471ea60ab53d4da",
       "version_major": 2,
       "version_minor": 0
      },
      "text/plain": [
       "A Jupyter Widget"
      ]
     },
     "metadata": {},
     "output_type": "display_data"
    },
    {
     "data": {
      "text/plain": [
       "<function __main__.f>"
      ]
     },
     "execution_count": 413,
     "metadata": {},
     "output_type": "execute_result"
    }
   ],
   "source": [
    "from ipywidgets import interact, interactive, fixed, interact_manual\n",
    "import ipywidgets as widgets\n",
    "import ipyvolume\n",
    "import scipy\n",
    "def f(x):\n",
    "    if x == 1:\n",
    "        v = np.reshape(example_predictions, (2*width/step).astype(int))\n",
    "    else:\n",
    "        v = example_volume_raw\n",
    "    return ipyvolume.quickvolshow(v, lighting=False, width=800, height=400, data_min=np.nanmin(v), data_max=np.nanmax(v))\n",
    "interact(f, x=widgets.IntSlider(min=0,max=1,step=1,value=0))"
   ]
  },
  {
   "cell_type": "code",
   "execution_count": 414,
   "metadata": {},
   "outputs": [
    {
     "name": "stdout",
     "output_type": "stream",
     "text": [
      "(18522, 8) (8,)\n"
     ]
    },
    {
     "data": {
      "application/vnd.jupyter.widget-view+json": {
       "model_id": "a38c013a30ae4b0983c9f63a7b76e98e",
       "version_major": 2,
       "version_minor": 0
      },
      "text/plain": [
       "A Jupyter Widget"
      ]
     },
     "metadata": {},
     "output_type": "display_data"
    },
    {
     "data": {
      "text/plain": [
       "<function __main__.f>"
      ]
     },
     "execution_count": 414,
     "metadata": {},
     "output_type": "execute_result"
    }
   ],
   "source": [
    "conv_weights = model.layers[0].get_weights()\n",
    "\n",
    "print(conv_weights[0].shape, conv_weights[1].shape)\n",
    "\n",
    "def f(x):\n",
    "    occupancy_weights = np.reshape(conv_weights[0][:window_size**3, x], (window_size, window_size, window_size))\n",
    "    known_weights = np.reshape(conv_weights[0][window_size**3:, x], (window_size, window_size, window_size))\n",
    "    bias = conv_weights[1][x]\n",
    "    print(\"Bias: \", bias)\n",
    "    v = occupancy_weights\n",
    "    return ipyvolume.quickvolshow(v, lighting=False, width=800, height=400, data_min=np.nanmin(v), data_max=np.nanmax(v))\n",
    "interact(f, x=widgets.IntSlider(min=0,max=conv_weights[1].shape[0],step=1, value=0))\n"
   ]
  },
  {
   "cell_type": "code",
   "execution_count": 439,
   "metadata": {},
   "outputs": [
    {
     "data": {
      "application/vnd.jupyter.widget-view+json": {
       "model_id": "e975ec3a8cc74ac2abfc88e0052221c4",
       "version_major": 2,
       "version_minor": 0
      },
      "text/plain": [
       "A Jupyter Widget"
      ]
     },
     "metadata": {},
     "output_type": "display_data"
    }
   ],
   "source": [
    "import tensorflow as tf\n",
    "\n",
    "from keras import backend as K\n",
    "tf_session = K.get_session()\n",
    "\n",
    "inp = tf.Variable(np.random.rand(1, 2*(window_size**3)).astype(np.float32),name=\"inp\")\n",
    "tf_session.run(tf.variables_initializer([inp], name='init'))\n",
    "\n",
    "optim = tf.train.GradientDescentOptimizer(0.5).minimize(-model(inp))\n",
    "tf_session.run(optim, feed_dict={K.learning_phase(): 0})\n",
    "v = tf_session.run(inp)\n",
    "v = v[0, :window_size**3]\n",
    "v = np.reshape(v, (window_size, window_size, window_size))\n",
    "ipyvolume.quickvolshow(v, lighting=False, width=800, height=400, data_min=np.nanmin(v), data_max=np.nanmax(v))"
   ]
  },
  {
   "cell_type": "code",
   "execution_count": null,
   "metadata": {
    "collapsed": true
   },
   "outputs": [],
   "source": []
  }
 ],
 "metadata": {
  "kernelspec": {
   "display_name": "Python 3",
   "language": "python",
   "name": "python3"
  },
  "language_info": {
   "codemirror_mode": {
    "name": "ipython",
    "version": 3
   },
   "file_extension": ".py",
   "mimetype": "text/x-python",
   "name": "python",
   "nbconvert_exporter": "python",
   "pygments_lexer": "ipython3",
   "version": "3.5.4"
  }
 },
 "nbformat": 4,
 "nbformat_minor": 2
}
