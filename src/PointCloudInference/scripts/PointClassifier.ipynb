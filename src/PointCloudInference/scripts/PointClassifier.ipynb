{
 "cells": [
  {
   "cell_type": "code",
   "execution_count": 153,
   "metadata": {},
   "outputs": [],
   "source": [
    "import os\n",
    "import numpy as np\n",
    "from keras.models import Sequential\n",
    "from keras.optimizers import Adagrad\n",
    "from keras.layers import Dense, Activation, Dropout\n",
    "from keras.layers.convolutional import Conv3D\n",
    "%matplotlib inline\n"
   ]
  },
  {
   "cell_type": "code",
   "execution_count": 119,
   "metadata": {},
   "outputs": [],
   "source": [
    "import importlib\n",
    "import DataLoader\n",
    "importlib.reload(DataLoader)\n",
    "from DataLoader import DataGenerator\n",
    "\n",
    "window_size = 20\n",
    "training_generator = DataGenerator(\"../data/train\", window_size, 32).generate()\n",
    "test_generator = DataGenerator(\"../data/test\", window_size, 32).generate()"
   ]
  },
  {
   "cell_type": "code",
   "execution_count": 123,
   "metadata": {},
   "outputs": [
    {
     "name": "stdout",
     "output_type": "stream",
     "text": [
      "Total 1s: 1583, total 0s: 1600\n"
     ]
    }
   ],
   "source": [
    "# Sample some statistics over the training set\n",
    "total_1s = 0\n",
    "total_0s = 0\n",
    "for i in range(100):\n",
    "    sample_batch_in, sample_batch_out = next(training_generator)\n",
    "    total_1s += np.sum(sample_batch_out == 1)\n",
    "    total_0s += np.sum(sample_batch_out == 0)\n",
    "print(\"Total 1s: %d, total 0s: %d\" % (total_1s, total_0s))"
   ]
  },
  {
   "cell_type": "code",
   "execution_count": 154,
   "metadata": {},
   "outputs": [],
   "source": [
    "model = Sequential()\n",
    "model.add(Dense(units=16, activation='relu', input_dim=2*(window_size**3)))\n",
    "model.add(Dense(units=1, activation='sigmoid'))\n",
    "\n",
    "# For a binary classification problem\n",
    "model.compile(optimizer=Adagrad(lr=0.01, epsilon=1e-08, decay=0.0),\n",
    "              loss='binary_crossentropy',\n",
    "              metrics=['accuracy'])"
   ]
  },
  {
   "cell_type": "code",
   "execution_count": 155,
   "metadata": {},
   "outputs": [
    {
     "name": "stdout",
     "output_type": "stream",
     "text": [
      "Epoch 1/10\n",
      "10000/10000 [==============================] - 61s - loss: 0.0858 - acc: 0.9809 - val_loss: 0.0499 - val_acc: 0.9875\n",
      "Epoch 2/10\n",
      "10000/10000 [==============================] - 61s - loss: 0.0356 - acc: 0.9922 - val_loss: 0.0507 - val_acc: 0.9884\n",
      "Epoch 3/10\n",
      "10000/10000 [==============================] - 61s - loss: 0.0242 - acc: 0.9954 - val_loss: 0.0363 - val_acc: 0.9921\n",
      "Epoch 4/10\n",
      "10000/10000 [==============================] - 60s - loss: 0.0200 - acc: 0.9964 - val_loss: 0.0473 - val_acc: 0.9849\n",
      "Epoch 5/10\n",
      "10000/10000 [==============================] - 60s - loss: 0.0202 - acc: 0.9964 - val_loss: 0.0321 - val_acc: 0.9936\n",
      "Epoch 6/10\n",
      "10000/10000 [==============================] - 61s - loss: 0.0152 - acc: 0.9973 - val_loss: 0.0291 - val_acc: 0.9943\n",
      "Epoch 7/10\n",
      "10000/10000 [==============================] - 61s - loss: 0.0163 - acc: 0.9970 - val_loss: 0.0262 - val_acc: 0.9951\n",
      "Epoch 8/10\n",
      "10000/10000 [==============================] - 62s - loss: 0.0122 - acc: 0.9978 - val_loss: 0.0284 - val_acc: 0.9947\n",
      "Epoch 9/10\n",
      "10000/10000 [==============================] - 60s - loss: 0.0137 - acc: 0.9974 - val_loss: 0.0288 - val_acc: 0.9944\n",
      "Epoch 10/10\n",
      "10000/10000 [==============================] - 56s - loss: 0.0128 - acc: 0.9976 - val_loss: 0.0255 - val_acc: 0.9957\n"
     ]
    },
    {
     "data": {
      "text/plain": [
       "<keras.callbacks.History at 0x7f54e5c7c400>"
      ]
     },
     "execution_count": 155,
     "metadata": {},
     "output_type": "execute_result"
    }
   ],
   "source": [
    "# Train the model, iterating on the data in batches of 32 samples\n",
    "model.fit_generator(generator=training_generator,\n",
    "                    steps_per_epoch = 10000,\n",
    "                    epochs=10,\n",
    "                    validation_data = test_generator, \n",
    "                    validation_steps = 1000)"
   ]
  },
  {
   "cell_type": "code",
   "execution_count": 156,
   "metadata": {},
   "outputs": [
    {
     "name": "stdout",
     "output_type": "stream",
     "text": [
      "(46, 48, 160) (46, 48, 160) 20\n"
     ]
    }
   ],
   "source": [
    "import VoxelDistanceFunctionFileLoader\n",
    "importlib.reload(VoxelDistanceFunctionFileLoader)\n",
    "from VoxelDistanceFunctionFileLoader import VoxelDistanceFunction\n",
    "\n",
    "vdf = VoxelDistanceFunction(\"../data/raw_vdfs/010.vdf\")\n",
    "\n",
    "print(vdf.occupancy.shape, vdf.known.shape, window_size)\n",
    "\n",
    "center = np.array([5, 5, 50])\n",
    "x_range = range(center[0], center[0]+window_size)\n",
    "y_range = range(center[1], center[1]+window_size)\n",
    "z_range = range(center[2], center[2]+window_size)\n",
    "\n",
    "example_volume = np.zeros((window_size**3, 2*(window_size**3)))\n",
    "k = 0\n",
    "for x in x_range:\n",
    "    for y in y_range:\n",
    "        for z in z_range:\n",
    "            example_volume[k, :] = vdf.GeneratePointwiseSampleAtPoint(window_size, x, y, z)\n",
    "            k += 1\n",
    "example_volume_raw = vdf.GeneratePointwiseSampleAtPoint(window_size, center[0], center[1], center[2])"
   ]
  },
  {
   "cell_type": "code",
   "execution_count": 157,
   "metadata": {},
   "outputs": [
    {
     "name": "stdout",
     "output_type": "stream",
     "text": [
      "[[ 0.00003337]\n",
      " [ 0.0000335 ]\n",
      " [ 0.00001232]\n",
      " ..., \n",
      " [ 0.00025182]\n",
      " [ 0.00025182]\n",
      " [ 0.00025182]]\n"
     ]
    }
   ],
   "source": [
    "example_predictions = model.predict_on_batch(example_volume)\n",
    "np.set_printoptions(suppress=True)\n",
    "print(example_predictions)"
   ]
  },
  {
   "cell_type": "code",
   "execution_count": 158,
   "metadata": {},
   "outputs": [
    {
     "data": {
      "application/vnd.jupyter.widget-view+json": {
       "model_id": "b7f61b2e5f82494ba2d3b8c063b9ab76",
       "version_major": 2,
       "version_minor": 0
      },
      "text/plain": [
       "A Jupyter Widget"
      ]
     },
     "metadata": {},
     "output_type": "display_data"
    },
    {
     "data": {
      "text/plain": [
       "<function __main__.f>"
      ]
     },
     "execution_count": 158,
     "metadata": {},
     "output_type": "execute_result"
    }
   ],
   "source": [
    "from ipywidgets import interact, interactive, fixed, interact_manual\n",
    "import ipywidgets as widgets\n",
    "import ipyvolume\n",
    "import scipy\n",
    "def f(x):\n",
    "    if x == 1:\n",
    "        v = np.reshape(example_predictions, (window_size, window_size, window_size))\n",
    "    else:\n",
    "        v = np.reshape(example_volume_raw[:window_size**3], (window_size, window_size, window_size))\n",
    "    return ipyvolume.quickvolshow(v, lighting=False, width=800, height=400, data_min=np.nanmin(v), data_max=np.nanmax(v))\n",
    "interact(f, x=widgets.IntSlider(min=0,max=1,step=1,value=0))"
   ]
  },
  {
   "cell_type": "code",
   "execution_count": null,
   "metadata": {
    "collapsed": true
   },
   "outputs": [],
   "source": []
  }
 ],
 "metadata": {
  "kernelspec": {
   "display_name": "Python 3",
   "language": "python",
   "name": "python3"
  },
  "language_info": {
   "codemirror_mode": {
    "name": "ipython",
    "version": 3
   },
   "file_extension": ".py",
   "mimetype": "text/x-python",
   "name": "python",
   "nbconvert_exporter": "python",
   "pygments_lexer": "ipython3",
   "version": "3.5.4"
  }
 },
 "nbformat": 4,
 "nbformat_minor": 2
}
