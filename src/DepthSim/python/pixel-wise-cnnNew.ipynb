{
 "cells": [
  {
   "cell_type": "code",
   "execution_count": 4,
   "metadata": {},
   "outputs": [
    {
     "name": "stdout",
     "output_type": "stream",
     "text": [
      "Using matplotlib backend: nbAgg\n"
     ]
    }
   ],
   "source": [
    "import numpy as np\n",
    "import matplotlib.pyplot as plt\n",
    "import os\n",
    "from scipy import misc\n",
    "from keras.preprocessing import image\n",
    "from keras.models import Sequential\n",
    "from keras.layers import Dense\n",
    "from keras.layers import Dropout\n",
    "from keras.layers import Flatten\n",
    "from keras.constraints import maxnorm\n",
    "from keras.optimizers import SGD\n",
    "from keras.layers.convolutional import Convolution2D\n",
    "from keras.layers.convolutional import MaxPooling2D\n",
    "from keras.layers import Activation\n",
    "from keras.layers import Reshape\n",
    "from keras.layers.convolutional import Conv2D\n",
    "from keras.layers import *\n",
    "from keras import Model\n",
    "from keras import optimizers\n",
    "from keras.callbacks import ModelCheckpoint, LearningRateScheduler\n",
    "import matplotlib.pyplot as plt\n",
    "%matplotlib nbagg\n",
    "from keras.utils import np_utils\n",
    "from keras import backend as K\n",
    "import cv2\n",
    "from sklearn.model_selection import train_test_split\n",
    "K.set_image_dim_ordering('th')\n",
    "%matplotlib "
   ]
  },
  {
   "cell_type": "code",
   "execution_count": 1,
   "metadata": {},
   "outputs": [
    {
     "name": "stderr",
     "output_type": "stream",
     "text": [
      "/usr/local/lib/python2.7/dist-packages/h5py/__init__.py:36: FutureWarning: Conversion of the second argument of issubdtype from `float` to `np.floating` is deprecated. In future, it will be treated as `np.float64 == np.dtype(float).type`.\n",
      "  from ._conv import register_converters as _register_converters\n",
      "Using TensorFlow backend.\n"
     ]
    },
    {
     "name": "stdout",
     "output_type": "stream",
     "text": [
      "Found 117661 images belonging to 1 classes.\n",
      "Found 117661 images belonging to 1 classes.\n",
      "Found 117521 images belonging to 1 classes.\n",
      "Found 117521 images belonging to 1 classes.\n"
     ]
    }
   ],
   "source": [
    "img_height, img_width = 480,640\n",
    "from keras.preprocessing import image\n",
    "from itertools import izip\n",
    "\n",
    "batch_size = 2\n",
    "def hot_vectorize(x):\n",
    "    zero_mask = x==0\n",
    "    non_zero_mask = x!=0\n",
    "    x[zero_mask] = 1\n",
    "    x[non_zero_mask] = 0\n",
    "    return x\n",
    "\n",
    "def combine_data_generators(depth,normal,rgb,mask):\n",
    "    while True:\n",
    "            d = depth.next()\n",
    "            n = normal.next()\n",
    "            r = rgb.next()\n",
    "            m = mask.next()\n",
    "            yield (np.concatenate((d,n,r),3),m)\n",
    "            \n",
    "labeldatagen = image.ImageDataGenerator(\n",
    "        #preprocessing_function=applications.xception.preprocess_input,\n",
    "        #preprocessing_function = random_crop,\n",
    "        #zoom_range=.5,plt.figure()\n",
    "        preprocessing_function = hot_vectorize,\n",
    "        data_format=\"channels_last\")\n",
    "\n",
    "datagen = image.ImageDataGenerator(\n",
    "        #preprocessing_function=applications.xception.preprocess_input,\n",
    "        #preprocessing_function = random_crop,\n",
    "        rescale =1/255.,\n",
    "        #zoom_range=.5,\n",
    "        data_format=\"channels_last\")\n",
    "\n",
    "flow_from_directory_params_grey = {'target_size': (img_height,img_width),\n",
    "                                  'color_mode': 'grayscale',\n",
    "                                  'class_mode': None,\n",
    "                                  'batch_size': batch_size}\n",
    "\n",
    "flow_from_directory_params_color = {'target_size': (img_height,img_width),\n",
    "                                  'color_mode': 'rgb',\n",
    "                                  'class_mode': None,\n",
    "                                  'batch_size': batch_size}\n",
    "\n",
    "\n",
    "mask_generator = labeldatagen.flow_from_directory(\n",
    "        directory=\"/media/drc/DATA/CNN/depth\",\n",
    "        shuffle = False,\n",
    "        **flow_from_directory_params_grey\n",
    "    )\n",
    "rgb_generator = datagen.flow_from_directory(\n",
    "        directory=\"/media/drc/DATA/CNN/rgb\",\n",
    "        shuffle = False,\n",
    "        **flow_from_directory_params_color\n",
    "    )\n",
    "normal_generator = datagen.flow_from_directory(\n",
    "        directory=\"/media/drc/DATA/CNN/normal\",\n",
    "        shuffle = False,\n",
    "        **flow_from_directory_params_color\n",
    "    )\n",
    "gt_generator = datagen.flow_from_directory(\n",
    "        directory=\"/media/drc/DATA/CNN/gtdepth\",\n",
    "        shuffle =False,\n",
    "        **flow_from_directory_params_grey\n",
    "    )"
   ]
  },
  {
   "cell_type": "code",
   "execution_count": 2,
   "metadata": {},
   "outputs": [],
   "source": [
    "train_generator = combine_data_generators(gt_generator,normal_generator,rgb_generator,mask_generator)"
   ]
  },
  {
   "cell_type": "code",
   "execution_count": 5,
   "metadata": {},
   "outputs": [],
   "source": [
    "inputs = Input((img_height, img_width,7))"
   ]
  },
  {
   "cell_type": "code",
   "execution_count": 6,
   "metadata": {},
   "outputs": [
    {
     "name": "stdout",
     "output_type": "stream",
     "text": [
      "__________________________________________________________________________________________________\n",
      "Layer (type)                    Output Shape         Param #     Connected to                     \n",
      "==================================================================================================\n",
      "input_1 (InputLayer)            (None, 480, 640, 7)  0                                            \n",
      "__________________________________________________________________________________________________\n",
      "conv2d_1 (Conv2D)               (None, 480, 640, 7)  448         input_1[0][0]                    \n",
      "__________________________________________________________________________________________________\n",
      "conv2d_2 (Conv2D)               (None, 480, 640, 7)  448         conv2d_1[0][0]                   \n",
      "__________________________________________________________________________________________________\n",
      "max_pooling2d_1 (MaxPooling2D)  (None, 240, 320, 7)  0           conv2d_2[0][0]                   \n",
      "__________________________________________________________________________________________________\n",
      "conv2d_3 (Conv2D)               (None, 240, 320, 14) 896         max_pooling2d_1[0][0]            \n",
      "__________________________________________________________________________________________________\n",
      "conv2d_4 (Conv2D)               (None, 240, 320, 14) 1778        conv2d_3[0][0]                   \n",
      "__________________________________________________________________________________________________\n",
      "max_pooling2d_2 (MaxPooling2D)  (None, 120, 160, 14) 0           conv2d_4[0][0]                   \n",
      "__________________________________________________________________________________________________\n",
      "conv2d_5 (Conv2D)               (None, 120, 160, 28) 3556        max_pooling2d_2[0][0]            \n",
      "__________________________________________________________________________________________________\n",
      "conv2d_6 (Conv2D)               (None, 120, 160, 28) 7084        conv2d_5[0][0]                   \n",
      "__________________________________________________________________________________________________\n",
      "max_pooling2d_3 (MaxPooling2D)  (None, 60, 80, 28)   0           conv2d_6[0][0]                   \n",
      "__________________________________________________________________________________________________\n",
      "conv2d_7 (Conv2D)               (None, 60, 80, 56)   14168       max_pooling2d_3[0][0]            \n",
      "__________________________________________________________________________________________________\n",
      "conv2d_8 (Conv2D)               (None, 60, 80, 56)   28280       conv2d_7[0][0]                   \n",
      "__________________________________________________________________________________________________\n",
      "dropout_1 (Dropout)             (None, 60, 80, 56)   0           conv2d_8[0][0]                   \n",
      "__________________________________________________________________________________________________\n",
      "max_pooling2d_4 (MaxPooling2D)  (None, 30, 40, 56)   0           dropout_1[0][0]                  \n",
      "__________________________________________________________________________________________________\n",
      "conv2d_9 (Conv2D)               (None, 30, 40, 1)    505         max_pooling2d_4[0][0]            \n",
      "__________________________________________________________________________________________________\n",
      "conv2d_10 (Conv2D)              (None, 30, 40, 136)  1360        conv2d_9[0][0]                   \n",
      "__________________________________________________________________________________________________\n",
      "dropout_2 (Dropout)             (None, 30, 40, 136)  0           conv2d_10[0][0]                  \n",
      "__________________________________________________________________________________________________\n",
      "up_sampling2d_1 (UpSampling2D)  (None, 60, 80, 136)  0           dropout_2[0][0]                  \n",
      "__________________________________________________________________________________________________\n",
      "conv2d_11 (Conv2D)              (None, 60, 80, 112)  61040       up_sampling2d_1[0][0]            \n",
      "__________________________________________________________________________________________________\n",
      "merge_1 (Merge)                 (None, 60, 80, 168)  0           dropout_1[0][0]                  \n",
      "                                                                 conv2d_11[0][0]                  \n",
      "__________________________________________________________________________________________________\n",
      "conv2d_12 (Conv2D)              (None, 60, 80, 112)  169456      merge_1[0][0]                    \n",
      "__________________________________________________________________________________________________\n",
      "conv2d_13 (Conv2D)              (None, 60, 80, 112)  113008      conv2d_12[0][0]                  \n",
      "__________________________________________________________________________________________________\n",
      "up_sampling2d_2 (UpSampling2D)  (None, 120, 160, 112 0           conv2d_13[0][0]                  \n",
      "__________________________________________________________________________________________________\n",
      "conv2d_14 (Conv2D)              (None, 120, 160, 56) 25144       up_sampling2d_2[0][0]            \n",
      "__________________________________________________________________________________________________\n",
      "merge_2 (Merge)                 (None, 120, 160, 84) 0           conv2d_6[0][0]                   \n",
      "                                                                 conv2d_14[0][0]                  \n",
      "__________________________________________________________________________________________________\n",
      "conv2d_15 (Conv2D)              (None, 120, 160, 56) 42392       merge_2[0][0]                    \n",
      "__________________________________________________________________________________________________\n",
      "conv2d_16 (Conv2D)              (None, 120, 160, 56) 28280       conv2d_15[0][0]                  \n",
      "__________________________________________________________________________________________________\n",
      "up_sampling2d_3 (UpSampling2D)  (None, 240, 320, 56) 0           conv2d_16[0][0]                  \n",
      "__________________________________________________________________________________________________\n",
      "conv2d_17 (Conv2D)              (None, 240, 320, 28) 6300        up_sampling2d_3[0][0]            \n",
      "__________________________________________________________________________________________________\n",
      "merge_3 (Merge)                 (None, 240, 320, 42) 0           conv2d_4[0][0]                   \n",
      "                                                                 conv2d_17[0][0]                  \n",
      "__________________________________________________________________________________________________\n",
      "conv2d_18 (Conv2D)              (None, 240, 320, 28) 10612       merge_3[0][0]                    \n",
      "__________________________________________________________________________________________________\n",
      "conv2d_19 (Conv2D)              (None, 240, 320, 28) 7084        conv2d_18[0][0]                  \n",
      "__________________________________________________________________________________________________\n",
      "up_sampling2d_4 (UpSampling2D)  (None, 480, 640, 28) 0           conv2d_19[0][0]                  \n",
      "__________________________________________________________________________________________________\n",
      "conv2d_20 (Conv2D)              (None, 480, 640, 14) 1582        up_sampling2d_4[0][0]            \n",
      "__________________________________________________________________________________________________\n",
      "merge_4 (Merge)                 (None, 480, 640, 21) 0           conv2d_2[0][0]                   \n",
      "                                                                 conv2d_20[0][0]                  \n",
      "__________________________________________________________________________________________________\n",
      "conv2d_21 (Conv2D)              (None, 480, 640, 14) 2660        merge_4[0][0]                    \n",
      "__________________________________________________________________________________________________\n",
      "conv2d_22 (Conv2D)              (None, 480, 640, 14) 1778        conv2d_21[0][0]                  \n",
      "__________________________________________________________________________________________________\n",
      "conv2d_23 (Conv2D)              (None, 480, 640, 2)  254         conv2d_22[0][0]                  \n",
      "__________________________________________________________________________________________________\n",
      "conv2d_24 (Conv2D)              (None, 480, 640, 1)  3           conv2d_23[0][0]                  \n",
      "==================================================================================================\n",
      "Total params: 528,116\n",
      "Trainable params: 528,116\n",
      "Non-trainable params: 0\n",
      "__________________________________________________________________________________________________\n",
      "None\n"
     ]
    },
    {
     "name": "stderr",
     "output_type": "stream",
     "text": [
      "/usr/local/lib/python2.7/dist-packages/ipykernel_launcher.py:24: UserWarning: The `merge` function is deprecated and will be removed after 08/2017. Use instead layers from `keras.layers.merge`, e.g. `add`, `concatenate`, etc.\n",
      "/usr/local/lib/python2.7/dist-packages/keras/legacy/layers.py:464: UserWarning: The `Merge` layer is deprecated and will be removed after 08/2017. Use instead layers from `keras.layers.merge`, e.g. `add`, `concatenate`, etc.\n",
      "  name=name)\n",
      "/usr/local/lib/python2.7/dist-packages/ipykernel_launcher.py:29: UserWarning: The `merge` function is deprecated and will be removed after 08/2017. Use instead layers from `keras.layers.merge`, e.g. `add`, `concatenate`, etc.\n",
      "/usr/local/lib/python2.7/dist-packages/ipykernel_launcher.py:34: UserWarning: The `merge` function is deprecated and will be removed after 08/2017. Use instead layers from `keras.layers.merge`, e.g. `add`, `concatenate`, etc.\n",
      "/usr/local/lib/python2.7/dist-packages/ipykernel_launcher.py:39: UserWarning: The `merge` function is deprecated and will be removed after 08/2017. Use instead layers from `keras.layers.merge`, e.g. `add`, `concatenate`, etc.\n",
      "/usr/local/lib/python2.7/dist-packages/ipykernel_launcher.py:45: UserWarning: Update your `Model` call to the Keras 2 API: `Model(outputs=Tensor(\"co..., inputs=Tensor(\"in...)`\n"
     ]
    }
   ],
   "source": [
    "#crop = Cropping2D(cropping=((0, 0), (0, 0)), data_format=None)\n",
    "conv1 = Conv2D(7, 3, activation = 'relu', padding = 'same', kernel_initializer = 'he_normal',data_format='channels_last')(inputs)\n",
    "conv1 = Conv2D(7, 3, activation = 'relu', padding = 'same', kernel_initializer = 'he_normal',data_format='channels_last')(conv1)\n",
    "pool1 = MaxPooling2D(pool_size=(2, 2),data_format='channels_last')(conv1)\n",
    "\n",
    "conv2 = Conv2D(14, 3, activation = 'relu', padding = 'same', kernel_initializer = 'he_normal',data_format='channels_last')(pool1)\n",
    "conv2 = Conv2D(14, 3, activation = 'relu', padding = 'same', kernel_initializer = 'he_normal',data_format='channels_last')(conv2)\n",
    "pool2 = MaxPooling2D(pool_size=(2, 2),data_format='channels_last')(conv2)\n",
    "\n",
    "conv3 = Conv2D(28, 3, activation = 'relu', padding = 'same', kernel_initializer = 'he_normal',data_format='channels_last')(pool2)\n",
    "conv3 = Conv2D(28, 3, activation = 'relu', padding = 'same', kernel_initializer = 'he_normal',data_format='channels_last')(conv3)\n",
    "pool3 = MaxPooling2D(pool_size=(2, 2),data_format='channels_last')(conv3)\n",
    "\n",
    "conv4 = Conv2D(56, 3, activation = 'relu', padding = 'same', kernel_initializer = 'he_normal',data_format='channels_last')(pool3)\n",
    "conv4 = Conv2D(56, 3, activation = 'relu', padding = 'same', kernel_initializer = 'he_normal',data_format='channels_last')(conv4)\n",
    "drop4 = Dropout(0.5)(conv4)\n",
    "pool4 = MaxPooling2D(pool_size=(2, 2),data_format='channels_last')(drop4)\n",
    "\n",
    "conv5 = Conv2D(1, 3, activation = 'relu', padding = 'same', kernel_initializer = 'he_normal',data_format='channels_last')(pool4)\n",
    "conv5 = Conv2D(136, 3, activation = 'relu', padding = 'same', kernel_initializer = 'he_normal',data_format='channels_last')(conv5)\n",
    "drop5 = Dropout(0.5)(conv5)\n",
    "\n",
    "up6 = Conv2D(112, 2, activation = 'relu', padding = 'same', kernel_initializer = 'he_normal',data_format='channels_last')(UpSampling2D(size = (2,2),data_format='channels_last')(drop5))\n",
    "merge6 = merge([drop4,up6], mode = 'concat', concat_axis = 3)\n",
    "conv6 = Conv2D(112, 3, activation = 'relu', padding = 'same', kernel_initializer = 'he_normal',data_format='channels_last')(merge6)\n",
    "conv6 = Conv2D(112, 3, activation = 'relu', padding = 'same', kernel_initializer = 'he_normal',data_format='channels_last')(conv6)\n",
    "\n",
    "up7 = Conv2D(56, 2, activation = 'relu', padding = 'same', kernel_initializer = 'he_normal',data_format='channels_last')(UpSampling2D(size = (2,2),data_format='channels_last')(conv6))\n",
    "merge7 = merge([conv3,up7], mode = 'concat', concat_axis = 3)\n",
    "conv7 = Conv2D(56, 3, activation = 'relu', padding = 'same', kernel_initializer = 'he_normal',data_format='channels_last')(merge7)\n",
    "conv7 = Conv2D(56, 3, activation = 'relu', padding = 'same', kernel_initializer = 'he_normal',data_format='channels_last')(conv7)\n",
    "\n",
    "up8 = Conv2D(28, 2, activation = 'relu', padding = 'same', kernel_initializer = 'he_normal',data_format='channels_last')(UpSampling2D(size = (2,2),data_format='channels_last')(conv7))\n",
    "merge8 = merge([conv2,up8], mode = 'concat', concat_axis = 3)\n",
    "conv8 = Conv2D(28, 3, activation = 'relu', padding = 'same', kernel_initializer = 'he_normal',data_format='channels_last')(merge8)\n",
    "conv8 = Conv2D(28, 3, activation = 'relu', padding = 'same', kernel_initializer = 'he_normal',data_format='channels_last')(conv8)\n",
    "\n",
    "up9 = Conv2D(14, 2, activation = 'relu', padding = 'same', kernel_initializer = 'he_normal',data_format='channels_last')(UpSampling2D(size = (2,2),data_format='channels_last')(conv8))\n",
    "merge9 = merge([conv1,up9], mode = 'concat', concat_axis = 3)\n",
    "conv9 = Conv2D(14, 3, activation = 'relu', padding = 'same', kernel_initializer = 'he_normal',data_format='channels_last')(merge9)\n",
    "conv9 = Conv2D(14, 3, activation = 'relu', padding = 'same', kernel_initializer = 'he_normal',data_format='channels_last')(conv9)\n",
    "conv9 = Conv2D(2, 3, activation = 'relu', padding = 'same', kernel_initializer = 'he_normal',data_format='channels_last')(conv9)\n",
    "conv10 = Conv2D(1, 1, activation = 'sigmoid',data_format='channels_last')(conv9)\n",
    "\n",
    "model = Model(input = inputs, output = conv10)\n",
    "print model.summary()\n",
    "model.compile(optimizer = optimizers.Adam(lr = 1e-4), loss = 'binary_crossentropy', metrics = ['accuracy'])"
   ]
  },
  {
   "cell_type": "code",
   "execution_count": 7,
   "metadata": {},
   "outputs": [
    {
     "name": "stdout",
     "output_type": "stream",
     "text": [
      "Fitting model...\n"
     ]
    },
    {
     "name": "stderr",
     "output_type": "stream",
     "text": [
      "/usr/local/lib/python2.7/dist-packages/ipykernel_launcher.py:3: UserWarning: The semantics of the Keras 2 argument `steps_per_epoch` is not the same as the Keras 1 argument `samples_per_epoch`. `steps_per_epoch` is the number of batches to draw from the generator at each epoch. Basically steps_per_epoch = samples_per_epoch/batch_size. Similarly `nb_val_samples`->`validation_steps` and `val_samples`->`steps` arguments have changed. Update your method calls accordingly.\n",
      "  This is separate from the ipykernel package so we can avoid doing imports until\n",
      "/usr/local/lib/python2.7/dist-packages/ipykernel_launcher.py:3: UserWarning: Update your `fit_generator` call to the Keras 2 API: `fit_generator(<generator..., shuffle=True, verbose=1, steps_per_epoch=100, epochs=100, callbacks=[<keras.ca...)`\n",
      "  This is separate from the ipykernel package so we can avoid doing imports until\n"
     ]
    },
    {
     "name": "stdout",
     "output_type": "stream",
     "text": [
      "Epoch 1/100\n",
      " 99/100 [============================>.] - ETA: 0s - loss: 0.4217 - acc: 0.8205\n",
      "Epoch 00001: loss improved from inf to 0.42073, saving model to unet.hdf5\n",
      "100/100 [==============================] - 26s 258ms/step - loss: 0.4207 - acc: 0.8207\n",
      "Epoch 2/100\n",
      " 99/100 [============================>.] - ETA: 0s - loss: 0.3342 - acc: 0.8599\n",
      "Epoch 00002: loss improved from 0.42073 to 0.33372, saving model to unet.hdf5\n",
      "100/100 [==============================] - 22s 217ms/step - loss: 0.3337 - acc: 0.8607\n",
      "Epoch 3/100\n",
      " 99/100 [============================>.] - ETA: 0s - loss: 0.3079 - acc: 0.9211\n",
      "Epoch 00003: loss improved from 0.33372 to 0.30753, saving model to unet.hdf5\n",
      "100/100 [==============================] - 25s 254ms/step - loss: 0.3075 - acc: 0.9213\n",
      "Epoch 4/100\n",
      " 99/100 [============================>.] - ETA: 0s - loss: 0.2795 - acc: 0.9259\n",
      "Epoch 00004: loss improved from 0.30753 to 0.27906, saving model to unet.hdf5\n",
      "100/100 [==============================] - 25s 251ms/step - loss: 0.2791 - acc: 0.9261\n",
      "Epoch 5/100\n",
      " 99/100 [============================>.] - ETA: 0s - loss: 0.2574 - acc: 0.9316\n",
      "Epoch 00005: loss improved from 0.27906 to 0.25720, saving model to unet.hdf5\n",
      "100/100 [==============================] - 25s 255ms/step - loss: 0.2572 - acc: 0.9317\n",
      "Epoch 6/100\n",
      " 99/100 [============================>.] - ETA: 0s - loss: 0.2434 - acc: 0.9346\n",
      "Epoch 00006: loss improved from 0.25720 to 0.24394, saving model to unet.hdf5\n",
      "100/100 [==============================] - 25s 255ms/step - loss: 0.2439 - acc: 0.9344\n",
      "Epoch 7/100\n",
      " 99/100 [============================>.] - ETA: 0s - loss: 0.2348 - acc: 0.9372\n",
      "Epoch 00007: loss improved from 0.24394 to 0.23609, saving model to unet.hdf5\n",
      "100/100 [==============================] - 23s 233ms/step - loss: 0.2361 - acc: 0.9367\n",
      "Epoch 8/100\n",
      " 99/100 [============================>.] - ETA: 0s - loss: 0.2298 - acc: 0.9389\n",
      "Epoch 00008: loss improved from 0.23609 to 0.22978, saving model to unet.hdf5\n",
      "100/100 [==============================] - 21s 213ms/step - loss: 0.2298 - acc: 0.9390\n",
      "Epoch 9/100\n",
      " 99/100 [============================>.] - ETA: 0s - loss: 0.2301 - acc: 0.9398\n",
      "Epoch 00009: loss improved from 0.22978 to 0.22973, saving model to unet.hdf5\n",
      "100/100 [==============================] - 21s 214ms/step - loss: 0.2297 - acc: 0.9399\n",
      "Epoch 10/100\n",
      " 99/100 [============================>.] - ETA: 0s - loss: 0.2247 - acc: 0.9424\n",
      "Epoch 00010: loss improved from 0.22973 to 0.22432, saving model to unet.hdf5\n",
      "100/100 [==============================] - 26s 261ms/step - loss: 0.2243 - acc: 0.9425\n",
      "Epoch 11/100\n",
      " 99/100 [============================>.] - ETA: 0s - loss: 0.2205 - acc: 0.9431\n",
      "Epoch 00011: loss improved from 0.22432 to 0.21993, saving model to unet.hdf5\n",
      "100/100 [==============================] - 26s 262ms/step - loss: 0.2199 - acc: 0.9433\n",
      "Epoch 12/100\n",
      " 99/100 [============================>.] - ETA: 0s - loss: 0.2187 - acc: 0.9441\n",
      "Epoch 00012: loss improved from 0.21993 to 0.21836, saving model to unet.hdf5\n",
      "100/100 [==============================] - 26s 258ms/step - loss: 0.2184 - acc: 0.9443\n",
      "Epoch 13/100\n",
      " 99/100 [============================>.] - ETA: 0s - loss: 0.2158 - acc: 0.9451\n",
      "Epoch 00013: loss improved from 0.21836 to 0.21546, saving model to unet.hdf5\n",
      "100/100 [==============================] - 26s 260ms/step - loss: 0.2155 - acc: 0.9453\n",
      "Epoch 14/100\n",
      " 99/100 [============================>.] - ETA: 0s - loss: 0.2105 - acc: 0.9461\n",
      "Epoch 00014: loss improved from 0.21546 to 0.21029, saving model to unet.hdf5\n",
      "100/100 [==============================] - 27s 266ms/step - loss: 0.2103 - acc: 0.9462\n",
      "Epoch 15/100\n",
      " 99/100 [============================>.] - ETA: 0s - loss: 0.2045 - acc: 0.9472\n",
      "Epoch 00015: loss improved from 0.21029 to 0.20467, saving model to unet.hdf5\n",
      "100/100 [==============================] - 26s 265ms/step - loss: 0.2047 - acc: 0.9472\n",
      "Epoch 16/100\n",
      " 99/100 [============================>.] - ETA: 0s - loss: 0.2014 - acc: 0.9490\n",
      "Epoch 00016: loss improved from 0.20467 to 0.20302, saving model to unet.hdf5\n",
      "100/100 [==============================] - 26s 263ms/step - loss: 0.2030 - acc: 0.9481\n",
      "Epoch 17/100\n",
      " 99/100 [============================>.] - ETA: 0s - loss: 0.1990 - acc: 0.9503\n",
      "Epoch 00017: loss improved from 0.20302 to 0.19867, saving model to unet.hdf5\n",
      "100/100 [==============================] - 27s 267ms/step - loss: 0.1987 - acc: 0.9504\n",
      "Epoch 18/100\n",
      " 99/100 [============================>.] - ETA: 0s - loss: 0.1983 - acc: 0.9500\n",
      "Epoch 00018: loss improved from 0.19867 to 0.19797, saving model to unet.hdf5\n",
      "100/100 [==============================] - 26s 258ms/step - loss: 0.1980 - acc: 0.9501\n",
      "Epoch 19/100\n",
      " 99/100 [============================>.] - ETA: 0s - loss: 0.1957 - acc: 0.9503\n",
      "Epoch 00019: loss improved from 0.19797 to 0.19523, saving model to unet.hdf5\n",
      "100/100 [==============================] - 26s 259ms/step - loss: 0.1952 - acc: 0.9505\n",
      "Epoch 20/100\n",
      " 99/100 [============================>.] - ETA: 0s - loss: 0.1923 - acc: 0.9510\n",
      "Epoch 00020: loss improved from 0.19523 to 0.19193, saving model to unet.hdf5\n",
      "100/100 [==============================] - 26s 261ms/step - loss: 0.1919 - acc: 0.9512\n",
      "Epoch 21/100\n",
      " 99/100 [============================>.] - ETA: 0s - loss: 0.1880 - acc: 0.9530\n",
      "Epoch 00021: loss improved from 0.19193 to 0.18767, saving model to unet.hdf5\n",
      "100/100 [==============================] - 26s 264ms/step - loss: 0.1877 - acc: 0.9532\n",
      "Epoch 22/100\n",
      " 99/100 [============================>.] - ETA: 0s - loss: 0.1874 - acc: 0.9522\n",
      "Epoch 00022: loss improved from 0.18767 to 0.18723, saving model to unet.hdf5\n",
      "100/100 [==============================] - 26s 263ms/step - loss: 0.1872 - acc: 0.9523\n",
      "Epoch 23/100\n",
      " 99/100 [============================>.] - ETA: 0s - loss: 0.1875 - acc: 0.9522\n",
      "Epoch 00023: loss did not improve\n",
      "100/100 [==============================] - 27s 269ms/step - loss: 0.1881 - acc: 0.9519\n",
      "Epoch 24/100\n",
      " 99/100 [============================>.] - ETA: 0s - loss: 0.1878 - acc: 0.9544\n",
      "Epoch 00024: loss did not improve\n",
      "100/100 [==============================] - 26s 261ms/step - loss: 0.1890 - acc: 0.9538\n",
      "Epoch 25/100\n",
      " 99/100 [============================>.] - ETA: 0s - loss: 0.1845 - acc: 0.9556\n",
      "Epoch 00025: loss improved from 0.18723 to 0.18495, saving model to unet.hdf5\n",
      "100/100 [==============================] - 26s 263ms/step - loss: 0.1850 - acc: 0.9554\n",
      "Epoch 26/100\n",
      " 99/100 [============================>.] - ETA: 0s - loss: 0.1848 - acc: 0.9546\n",
      "Epoch 00026: loss improved from 0.18495 to 0.18445, saving model to unet.hdf5\n",
      "100/100 [==============================] - 26s 257ms/step - loss: 0.1845 - acc: 0.9548\n",
      "Epoch 27/100\n",
      " 99/100 [============================>.] - ETA: 0s - loss: 0.1862 - acc: 0.9539\n",
      "Epoch 00027: loss did not improve\n",
      "100/100 [==============================] - 26s 261ms/step - loss: 0.1858 - acc: 0.9540\n",
      "Epoch 28/100\n",
      " 99/100 [============================>.] - ETA: 0s - loss: 0.1860 - acc: 0.9537\n",
      "Epoch 00028: loss did not improve\n",
      "100/100 [==============================] - 27s 267ms/step - loss: 0.1857 - acc: 0.9539\n",
      "Epoch 29/100\n",
      " 99/100 [============================>.] - ETA: 0s - loss: 0.1812 - acc: 0.9553\n",
      "Epoch 00029: loss improved from 0.18445 to 0.18096, saving model to unet.hdf5\n",
      "100/100 [==============================] - 27s 265ms/step - loss: 0.1810 - acc: 0.9554\n",
      "Epoch 30/100\n",
      " 99/100 [============================>.] - ETA: 0s - loss: 0.1795 - acc: 0.9555\n",
      "Epoch 00030: loss improved from 0.18096 to 0.17923, saving model to unet.hdf5\n",
      "100/100 [==============================] - 26s 264ms/step - loss: 0.1792 - acc: 0.9556\n",
      "Epoch 31/100\n",
      " 99/100 [============================>.] - ETA: 0s - loss: 0.1777 - acc: 0.9559\n",
      "Epoch 00031: loss improved from 0.17923 to 0.17758, saving model to unet.hdf5\n",
      "100/100 [==============================] - 27s 269ms/step - loss: 0.1776 - acc: 0.9560\n",
      "Epoch 32/100\n",
      " 99/100 [============================>.] - ETA: 0s - loss: 0.1790 - acc: 0.9549\n",
      "Epoch 00032: loss did not improve\n",
      "100/100 [==============================] - 26s 265ms/step - loss: 0.1792 - acc: 0.9549\n",
      "Epoch 33/100\n",
      " 99/100 [============================>.] - ETA: 0s - loss: 0.1796 - acc: 0.9542\n",
      "Epoch 00033: loss did not improve\n",
      "100/100 [==============================] - 27s 267ms/step - loss: 0.1803 - acc: 0.9540\n"
     ]
    },
    {
     "name": "stdout",
     "output_type": "stream",
     "text": [
      "Epoch 34/100\n",
      " 99/100 [============================>.] - ETA: 0s - loss: 0.1796 - acc: 0.9543\n",
      "Epoch 00034: loss did not improve\n",
      "100/100 [==============================] - 27s 274ms/step - loss: 0.1793 - acc: 0.9544\n",
      "Epoch 35/100\n",
      " 99/100 [============================>.] - ETA: 0s - loss: 0.1805 - acc: 0.9538\n",
      "Epoch 00035: loss did not improve\n",
      "100/100 [==============================] - 27s 273ms/step - loss: 0.1804 - acc: 0.9538\n",
      "Epoch 36/100\n",
      " 99/100 [============================>.] - ETA: 0s - loss: 0.1777 - acc: 0.9545\n",
      "Epoch 00036: loss improved from 0.17758 to 0.17743, saving model to unet.hdf5\n",
      "100/100 [==============================] - 27s 273ms/step - loss: 0.1774 - acc: 0.9546\n",
      "Epoch 37/100\n",
      " 99/100 [============================>.] - ETA: 0s - loss: 0.1763 - acc: 0.9545\n",
      "Epoch 00037: loss improved from 0.17743 to 0.17607, saving model to unet.hdf5\n",
      "100/100 [==============================] - 28s 278ms/step - loss: 0.1761 - acc: 0.9546\n",
      "Epoch 38/100\n",
      " 99/100 [============================>.] - ETA: 0s - loss: 0.1759 - acc: 0.9537\n",
      "Epoch 00038: loss improved from 0.17607 to 0.17559, saving model to unet.hdf5\n",
      "100/100 [==============================] - 27s 273ms/step - loss: 0.1756 - acc: 0.9538\n",
      "Epoch 39/100\n",
      " 99/100 [============================>.] - ETA: 0s - loss: 0.1720 - acc: 0.9560\n",
      "Epoch 00039: loss improved from 0.17559 to 0.17190, saving model to unet.hdf5\n",
      "100/100 [==============================] - 27s 274ms/step - loss: 0.1719 - acc: 0.9560\n",
      "Epoch 40/100\n",
      " 99/100 [============================>.] - ETA: 0s - loss: 0.1703 - acc: 0.9566\n",
      "Epoch 00040: loss improved from 0.17190 to 0.17091, saving model to unet.hdf5\n",
      "100/100 [==============================] - 27s 267ms/step - loss: 0.1709 - acc: 0.9564\n",
      "Epoch 41/100\n",
      " 99/100 [============================>.] - ETA: 0s - loss: 0.1685 - acc: 0.9567\n",
      "Epoch 00041: loss improved from 0.17091 to 0.16968, saving model to unet.hdf5\n",
      "100/100 [==============================] - 27s 268ms/step - loss: 0.1697 - acc: 0.9560\n",
      "Epoch 42/100\n",
      " 99/100 [============================>.] - ETA: 0s - loss: 0.1663 - acc: 0.9579\n",
      "Epoch 00042: loss improved from 0.16968 to 0.16629, saving model to unet.hdf5\n",
      "100/100 [==============================] - 26s 263ms/step - loss: 0.1663 - acc: 0.9579\n",
      "Epoch 43/100\n",
      " 99/100 [============================>.] - ETA: 0s - loss: 0.1703 - acc: 0.9560\n",
      "Epoch 00043: loss did not improve\n",
      "100/100 [==============================] - 27s 273ms/step - loss: 0.1700 - acc: 0.9562\n",
      "Epoch 44/100\n",
      " 99/100 [============================>.] - ETA: 0s - loss: 0.1696 - acc: 0.9558\n",
      "Epoch 00044: loss did not improve\n",
      "100/100 [==============================] - 28s 277ms/step - loss: 0.1693 - acc: 0.9559\n",
      "Epoch 45/100\n",
      " 99/100 [============================>.] - ETA: 0s - loss: 0.1715 - acc: 0.9544\n",
      "Epoch 00045: loss did not improve\n",
      "100/100 [==============================] - 28s 276ms/step - loss: 0.1712 - acc: 0.9545\n",
      "Epoch 46/100\n",
      " 99/100 [============================>.] - ETA: 0s - loss: 0.1696 - acc: 0.9555\n",
      "Epoch 00046: loss did not improve\n",
      "100/100 [==============================] - 28s 283ms/step - loss: 0.1694 - acc: 0.9556\n",
      "Epoch 47/100\n",
      " 99/100 [============================>.] - ETA: 0s - loss: 0.1697 - acc: 0.9563\n",
      "Epoch 00047: loss did not improve\n",
      "100/100 [==============================] - 29s 287ms/step - loss: 0.1695 - acc: 0.9564\n",
      "Epoch 48/100\n",
      " 99/100 [============================>.] - ETA: 0s - loss: 0.1699 - acc: 0.9558\n",
      "Epoch 00048: loss did not improve\n",
      "100/100 [==============================] - 28s 279ms/step - loss: 0.1698 - acc: 0.9559\n",
      "Epoch 49/100\n",
      " 99/100 [============================>.] - ETA: 0s - loss: 0.1661 - acc: 0.9573\n",
      "Epoch 00049: loss improved from 0.16629 to 0.16619, saving model to unet.hdf5\n",
      "100/100 [==============================] - 28s 282ms/step - loss: 0.1662 - acc: 0.9573\n",
      "Epoch 50/100\n",
      " 99/100 [============================>.] - ETA: 0s - loss: 0.1627 - acc: 0.9589\n",
      "Epoch 00050: loss improved from 0.16619 to 0.16378, saving model to unet.hdf5\n",
      "100/100 [==============================] - 28s 284ms/step - loss: 0.1638 - acc: 0.9583\n",
      "Epoch 51/100\n",
      " 99/100 [============================>.] - ETA: 0s - loss: 0.1643 - acc: 0.9581\n",
      "Epoch 00051: loss did not improve\n",
      "100/100 [==============================] - 27s 274ms/step - loss: 0.1641 - acc: 0.9582\n",
      "Epoch 52/100\n",
      " 99/100 [============================>.] - ETA: 0s - loss: 0.1652 - acc: 0.9576\n",
      "Epoch 00052: loss did not improve\n",
      "100/100 [==============================] - 28s 283ms/step - loss: 0.1650 - acc: 0.9577\n",
      "Epoch 53/100\n",
      " 99/100 [============================>.] - ETA: 0s - loss: 0.1663 - acc: 0.9563\n",
      "Epoch 00053: loss did not improve\n",
      "100/100 [==============================] - 28s 279ms/step - loss: 0.1660 - acc: 0.9565\n",
      "Epoch 54/100\n",
      " 99/100 [============================>.] - ETA: 0s - loss: 0.1644 - acc: 0.9571\n",
      "Epoch 00054: loss did not improve\n",
      "100/100 [==============================] - 27s 272ms/step - loss: 0.1642 - acc: 0.9572\n",
      "Epoch 55/100\n",
      " 99/100 [============================>.] - ETA: 0s - loss: 0.1638 - acc: 0.9567\n",
      "Epoch 00055: loss improved from 0.16378 to 0.16348, saving model to unet.hdf5\n",
      "100/100 [==============================] - 28s 280ms/step - loss: 0.1635 - acc: 0.9569\n",
      "Epoch 56/100\n",
      " 99/100 [============================>.] - ETA: 0s - loss: 0.1608 - acc: 0.9582\n",
      "Epoch 00056: loss improved from 0.16348 to 0.16071, saving model to unet.hdf5\n",
      "100/100 [==============================] - 28s 280ms/step - loss: 0.1607 - acc: 0.9583\n",
      "Epoch 57/100\n",
      " 99/100 [============================>.] - ETA: 0s - loss: 0.1593 - acc: 0.9590\n",
      "Epoch 00057: loss improved from 0.16071 to 0.15958, saving model to unet.hdf5\n",
      "100/100 [==============================] - 28s 280ms/step - loss: 0.1596 - acc: 0.9589\n",
      "Epoch 58/100\n",
      " 99/100 [============================>.] - ETA: 0s - loss: 0.1556 - acc: 0.9605\n",
      "Epoch 00058: loss improved from 0.15958 to 0.15678, saving model to unet.hdf5\n",
      "100/100 [==============================] - 28s 279ms/step - loss: 0.1568 - acc: 0.9599\n",
      "Epoch 59/100\n",
      " 99/100 [============================>.] - ETA: 0s - loss: 0.1546 - acc: 0.9605\n",
      "Epoch 00059: loss improved from 0.15678 to 0.15452, saving model to unet.hdf5\n",
      "100/100 [==============================] - 28s 276ms/step - loss: 0.1545 - acc: 0.9605\n",
      "Epoch 60/100\n",
      " 99/100 [============================>.] - ETA: 0s - loss: 0.1582 - acc: 0.9583\n",
      "Epoch 00060: loss did not improve\n",
      "100/100 [==============================] - 28s 278ms/step - loss: 0.1580 - acc: 0.9584\n",
      "Epoch 61/100\n",
      " 99/100 [============================>.] - ETA: 0s - loss: 0.1573 - acc: 0.9587\n",
      "Epoch 00061: loss did not improve\n",
      "100/100 [==============================] - 29s 288ms/step - loss: 0.1570 - acc: 0.9588\n",
      "Epoch 62/100\n",
      " 99/100 [============================>.] - ETA: 0s - loss: 0.1585 - acc: 0.9579\n",
      "Epoch 00062: loss did not improve\n",
      "100/100 [==============================] - 28s 276ms/step - loss: 0.1583 - acc: 0.9580\n",
      "Epoch 63/100\n",
      " 99/100 [============================>.] - ETA: 0s - loss: 0.1551 - acc: 0.9594\n",
      "Epoch 00063: loss did not improve\n",
      "100/100 [==============================] - 29s 288ms/step - loss: 0.1549 - acc: 0.9595\n",
      "Epoch 64/100\n",
      " 99/100 [============================>.] - ETA: 0s - loss: 0.1566 - acc: 0.9583\n",
      "Epoch 00064: loss did not improve\n",
      "100/100 [==============================] - 29s 286ms/step - loss: 0.1564 - acc: 0.9584\n",
      "Epoch 65/100\n",
      " 99/100 [============================>.] - ETA: 0s - loss: 0.1566 - acc: 0.9590\n",
      "Epoch 00065: loss did not improve\n",
      "100/100 [==============================] - 28s 276ms/step - loss: 0.1565 - acc: 0.9590\n",
      "Epoch 66/100\n",
      " 99/100 [============================>.] - ETA: 0s - loss: 0.1555 - acc: 0.9584\n",
      "Epoch 00066: loss did not improve\n",
      "100/100 [==============================] - 28s 283ms/step - loss: 0.1555 - acc: 0.9585\n",
      "Epoch 67/100\n",
      " 99/100 [============================>.] - ETA: 0s - loss: 0.1536 - acc: 0.9592\n",
      "Epoch 00067: loss did not improve\n",
      "100/100 [==============================] - 28s 285ms/step - loss: 0.1546 - acc: 0.9588\n",
      "Epoch 68/100\n",
      " 99/100 [============================>.] - ETA: 0s - loss: 0.1539 - acc: 0.9584\n",
      "Epoch 00068: loss improved from 0.15452 to 0.15366, saving model to unet.hdf5\n",
      "100/100 [==============================] - 28s 282ms/step - loss: 0.1537 - acc: 0.9585\n",
      "Epoch 69/100\n"
     ]
    },
    {
     "name": "stdout",
     "output_type": "stream",
     "text": [
      " 99/100 [============================>.] - ETA: 0s - loss: 0.1532 - acc: 0.9582\n",
      "Epoch 00069: loss improved from 0.15366 to 0.15300, saving model to unet.hdf5\n",
      "100/100 [==============================] - 29s 289ms/step - loss: 0.1530 - acc: 0.9582\n",
      "Epoch 70/100\n",
      " 99/100 [============================>.] - ETA: 0s - loss: 0.1545 - acc: 0.9579\n",
      "Epoch 00070: loss did not improve\n",
      "100/100 [==============================] - 28s 276ms/step - loss: 0.1543 - acc: 0.9580\n",
      "Epoch 71/100\n",
      " 99/100 [============================>.] - ETA: 0s - loss: 0.1535 - acc: 0.9580\n",
      "Epoch 00071: loss did not improve\n",
      "100/100 [==============================] - 28s 282ms/step - loss: 0.1534 - acc: 0.9581\n",
      "Epoch 72/100\n",
      " 99/100 [============================>.] - ETA: 0s - loss: 0.1558 - acc: 0.9559\n",
      "Epoch 00072: loss did not improve\n",
      "100/100 [==============================] - 28s 284ms/step - loss: 0.1556 - acc: 0.9560\n",
      "Epoch 73/100\n",
      " 99/100 [============================>.] - ETA: 0s - loss: 0.1511 - acc: 0.9585\n",
      "Epoch 00073: loss improved from 0.15300 to 0.15110, saving model to unet.hdf5\n",
      "100/100 [==============================] - 29s 285ms/step - loss: 0.1511 - acc: 0.9585\n",
      "Epoch 74/100\n",
      " 99/100 [============================>.] - ETA: 0s - loss: 0.1500 - acc: 0.9590\n",
      "Epoch 00074: loss improved from 0.15110 to 0.15012, saving model to unet.hdf5\n",
      "100/100 [==============================] - 29s 291ms/step - loss: 0.1501 - acc: 0.9590\n",
      "Epoch 75/100\n",
      " 99/100 [============================>.] - ETA: 0s - loss: 0.1481 - acc: 0.9598\n",
      "Epoch 00075: loss improved from 0.15012 to 0.14923, saving model to unet.hdf5\n",
      "100/100 [==============================] - 29s 287ms/step - loss: 0.1492 - acc: 0.9593\n",
      "Epoch 76/100\n",
      " 99/100 [============================>.] - ETA: 0s - loss: 0.1466 - acc: 0.9600\n",
      "Epoch 00076: loss improved from 0.14923 to 0.14636, saving model to unet.hdf5\n",
      "100/100 [==============================] - 28s 282ms/step - loss: 0.1464 - acc: 0.9601\n",
      "Epoch 77/100\n",
      " 99/100 [============================>.] - ETA: 0s - loss: 0.1504 - acc: 0.9586\n",
      "Epoch 00077: loss did not improve\n",
      "100/100 [==============================] - 29s 291ms/step - loss: 0.1500 - acc: 0.9587\n",
      "Epoch 78/100\n",
      " 99/100 [============================>.] - ETA: 0s - loss: 0.1454 - acc: 0.9612\n",
      "Epoch 00078: loss improved from 0.14636 to 0.14532, saving model to unet.hdf5\n",
      "100/100 [==============================] - 28s 283ms/step - loss: 0.1453 - acc: 0.9612\n",
      "Epoch 79/100\n",
      " 99/100 [============================>.] - ETA: 0s - loss: 0.1455 - acc: 0.9607\n",
      "Epoch 00079: loss improved from 0.14532 to 0.14532, saving model to unet.hdf5\n",
      "100/100 [==============================] - 29s 286ms/step - loss: 0.1453 - acc: 0.9607\n",
      "Epoch 80/100\n",
      " 99/100 [============================>.] - ETA: 0s - loss: 0.1435 - acc: 0.9618\n",
      "Epoch 00080: loss improved from 0.14532 to 0.14328, saving model to unet.hdf5\n",
      "100/100 [==============================] - 29s 290ms/step - loss: 0.1433 - acc: 0.9619\n",
      "Epoch 81/100\n",
      " 99/100 [============================>.] - ETA: 0s - loss: 0.1423 - acc: 0.9620\n",
      "Epoch 00081: loss improved from 0.14328 to 0.14214, saving model to unet.hdf5\n",
      "100/100 [==============================] - 28s 284ms/step - loss: 0.1421 - acc: 0.9621\n",
      "Epoch 82/100\n",
      " 99/100 [============================>.] - ETA: 0s - loss: 0.1418 - acc: 0.9625\n",
      "Epoch 00082: loss improved from 0.14214 to 0.14169, saving model to unet.hdf5\n",
      "100/100 [==============================] - 29s 288ms/step - loss: 0.1417 - acc: 0.9625\n",
      "Epoch 83/100\n",
      " 99/100 [============================>.] - ETA: 0s - loss: 0.1431 - acc: 0.9609\n",
      "Epoch 00083: loss did not improve\n",
      "100/100 [==============================] - 28s 285ms/step - loss: 0.1431 - acc: 0.9609\n",
      "Epoch 84/100\n",
      " 99/100 [============================>.] - ETA: 0s - loss: 0.1394 - acc: 0.9627\n",
      "Epoch 00084: loss improved from 0.14169 to 0.14004, saving model to unet.hdf5\n",
      "100/100 [==============================] - 29s 285ms/step - loss: 0.1400 - acc: 0.9624\n",
      "Epoch 85/100\n",
      " 99/100 [============================>.] - ETA: 0s - loss: 0.1367 - acc: 0.9643\n",
      "Epoch 00085: loss improved from 0.14004 to 0.13647, saving model to unet.hdf5\n",
      "100/100 [==============================] - 29s 286ms/step - loss: 0.1365 - acc: 0.9644\n",
      "Epoch 86/100\n",
      " 99/100 [============================>.] - ETA: 0s - loss: 0.1370 - acc: 0.9638\n",
      "Epoch 00086: loss did not improve\n",
      "100/100 [==============================] - 28s 281ms/step - loss: 0.1368 - acc: 0.9638\n",
      "Epoch 87/100\n",
      " 99/100 [============================>.] - ETA: 0s - loss: 0.1398 - acc: 0.9621\n",
      "Epoch 00087: loss did not improve\n",
      "100/100 [==============================] - 27s 274ms/step - loss: 0.1395 - acc: 0.9622\n",
      "Epoch 88/100\n",
      " 99/100 [============================>.] - ETA: 0s - loss: 0.1330 - acc: 0.9655\n",
      "Epoch 00088: loss improved from 0.13647 to 0.13289, saving model to unet.hdf5\n",
      "100/100 [==============================] - 30s 297ms/step - loss: 0.1329 - acc: 0.9656\n",
      "Epoch 89/100\n",
      " 99/100 [============================>.] - ETA: 0s - loss: 0.1324 - acc: 0.9657\n",
      "Epoch 00089: loss improved from 0.13289 to 0.13225, saving model to unet.hdf5\n",
      "100/100 [==============================] - 28s 277ms/step - loss: 0.1322 - acc: 0.9657\n",
      "Epoch 90/100\n",
      " 99/100 [============================>.] - ETA: 0s - loss: 0.1366 - acc: 0.9627\n",
      "Epoch 00090: loss did not improve\n",
      "100/100 [==============================] - 28s 284ms/step - loss: 0.1366 - acc: 0.9628\n",
      "Epoch 91/100\n",
      " 99/100 [============================>.] - ETA: 0s - loss: 0.1304 - acc: 0.9661\n",
      "Epoch 00091: loss improved from 0.13225 to 0.13136, saving model to unet.hdf5\n",
      "100/100 [==============================] - 28s 283ms/step - loss: 0.1314 - acc: 0.9658\n",
      "Epoch 92/100\n",
      " 99/100 [============================>.] - ETA: 0s - loss: 0.1333 - acc: 0.9649\n",
      "Epoch 00092: loss did not improve\n",
      "100/100 [==============================] - 28s 280ms/step - loss: 0.1346 - acc: 0.9643\n",
      "Epoch 93/100\n",
      " 99/100 [============================>.] - ETA: 0s - loss: 0.1326 - acc: 0.9646\n",
      "Epoch 00093: loss did not improve\n",
      "100/100 [==============================] - 29s 289ms/step - loss: 0.1323 - acc: 0.9647\n",
      "Epoch 94/100\n",
      " 99/100 [============================>.] - ETA: 0s - loss: 0.1332 - acc: 0.9643\n",
      "Epoch 00094: loss did not improve\n",
      "100/100 [==============================] - 29s 287ms/step - loss: 0.1330 - acc: 0.9644\n",
      "Epoch 95/100\n",
      " 99/100 [============================>.] - ETA: 0s - loss: 0.1362 - acc: 0.9631\n",
      "Epoch 00095: loss did not improve\n",
      "100/100 [==============================] - 28s 282ms/step - loss: 0.1359 - acc: 0.9632\n",
      "Epoch 96/100\n",
      " 99/100 [============================>.] - ETA: 0s - loss: 0.1359 - acc: 0.9627\n",
      "Epoch 00096: loss did not improve\n",
      "100/100 [==============================] - 29s 287ms/step - loss: 0.1357 - acc: 0.9629\n",
      "Epoch 97/100\n",
      " 99/100 [============================>.] - ETA: 0s - loss: 0.1353 - acc: 0.9631\n",
      "Epoch 00097: loss did not improve\n",
      "100/100 [==============================] - 28s 276ms/step - loss: 0.1351 - acc: 0.9632\n",
      "Epoch 98/100\n",
      " 99/100 [============================>.] - ETA: 0s - loss: 0.1356 - acc: 0.9627\n",
      "Epoch 00098: loss did not improve\n",
      "100/100 [==============================] - 28s 278ms/step - loss: 0.1354 - acc: 0.9628\n",
      "Epoch 99/100\n",
      " 99/100 [============================>.] - ETA: 0s - loss: 0.1311 - acc: 0.9646\n",
      "Epoch 00099: loss improved from 0.13136 to 0.13105, saving model to unet.hdf5\n",
      "100/100 [==============================] - 29s 287ms/step - loss: 0.1311 - acc: 0.9646\n",
      "Epoch 100/100\n",
      " 99/100 [============================>.] - ETA: 0s - loss: 0.1299 - acc: 0.9652\n",
      "Epoch 00100: loss improved from 0.13105 to 0.13014, saving model to unet.hdf5\n",
      "100/100 [==============================] - 28s 275ms/step - loss: 0.1301 - acc: 0.9650\n"
     ]
    },
    {
     "data": {
      "text/plain": [
       "<keras.callbacks.History at 0x7f8f6daa0850>"
      ]
     },
     "execution_count": 7,
     "metadata": {},
     "output_type": "execute_result"
    }
   ],
   "source": [
    "model_checkpoint = ModelCheckpoint('unet.hdf5', monitor='loss',verbose=1, save_best_only=True)\n",
    "print('Fitting model...')\n",
    "model.fit_generator(train_generator, nb_epoch=100,steps_per_epoch=100, verbose=1, shuffle=True, callbacks=[model_checkpoint])"
   ]
  },
  {
   "cell_type": "code",
   "execution_count": 14,
   "metadata": {},
   "outputs": [
    {
     "data": {
      "text/plain": [
       "(2, 480, 640, 7)"
      ]
     },
     "execution_count": 14,
     "metadata": {},
     "output_type": "execute_result"
    }
   ],
   "source": [
    "np.shape(X_Test)"
   ]
  },
  {
   "cell_type": "code",
   "execution_count": 8,
   "metadata": {},
   "outputs": [],
   "source": [
    "test = train_generator.next()\n",
    "X_Test = test[0][0:10]\n",
    "Y_Test = test[1][0:10]\n",
    "imgs_mask_test = model.predict_on_batch(X_Test)"
   ]
  },
  {
   "cell_type": "code",
   "execution_count": 29,
   "metadata": {},
   "outputs": [
    {
     "data": {
      "text/plain": [
       "<matplotlib.image.AxesImage at 0x7f8f48221750>"
      ]
     },
     "execution_count": 29,
     "metadata": {},
     "output_type": "execute_result"
    },
    {
     "data": {
      "image/png": "[encoded data removed]",
      "text/plain": [
       "<matplotlib.figure.Figure at 0x7f8f48312990>"
      ]
     },
     "metadata": {},
     "output_type": "display_data"
    }
   ],
   "source": [
    "%matplotlib inline\n",
    "img = np.reshape(X_Test[0,:,:,0],(img_height,img_width))\n",
    "plt.imshow(img)"
   ]
  },
  {
   "cell_type": "code",
   "execution_count": 16,
   "metadata": {},
   "outputs": [
    {
     "data": {
      "text/plain": [
       "<matplotlib.image.AxesImage at 0x7f8f4867fe10>"
      ]
     },
     "execution_count": 16,
     "metadata": {},
     "output_type": "execute_result"
    },
    {
     "data": {
      "image/png": "[encoded data removed]",
      "text/plain": [
       "<matplotlib.figure.Figure at 0x7f8f487cb690>"
      ]
     },
     "metadata": {},
     "output_type": "display_data"
    }
   ],
   "source": [
    "%matplotlib inline\n",
    "index = np.random.randint(3)\n",
    "img = np.reshape(imgs_mask_test[0],(img_height,img_width))\n",
    "plt.imshow(img)"
   ]
  },
  {
   "cell_type": "code",
   "execution_count": 15,
   "metadata": {},
   "outputs": [
    {
     "data": {
      "text/plain": [
       "<matplotlib.image.AxesImage at 0x7f8f486bed10>"
      ]
     },
     "execution_count": 15,
     "metadata": {},
     "output_type": "execute_result"
    },
    {
     "data": {
      "image/png": "[encoded data removed]",
      "text/plain": [
       "<matplotlib.figure.Figure at 0x7f8f48820050>"
      ]
     },
     "metadata": {},
     "output_type": "display_data"
    }
   ],
   "source": [
    "%matplotlib inline\n",
    "img = np.reshape(Y_Test[0],(img_height,img_width))\n",
    "plt.imshow(img)"
   ]
  },
  {
   "cell_type": "code",
   "execution_count": 169,
   "metadata": {},
   "outputs": [],
   "source": [
    "train = train_generator.next()\n",
    "X = train[0]\n",
    "Y = train[1]\n",
    "inputs = Input((1,img_height, img_width))"
   ]
  },
  {
   "cell_type": "code",
   "execution_count": 171,
   "metadata": {},
   "outputs": [
    {
     "name": "stdout",
     "output_type": "stream",
     "text": [
      "_________________________________________________________________\n",
      "Layer (type)                 Output Shape              Param #   \n",
      "=================================================================\n",
      "input_2 (InputLayer)         (None, 1, 480, 640)       0         \n",
      "_________________________________________________________________\n",
      "conv2d_85 (Conv2D)           (None, 32, 480, 640)      832       \n",
      "_________________________________________________________________\n",
      "conv2d_86 (Conv2D)           (None, 64, 480, 640)      51264     \n",
      "_________________________________________________________________\n",
      "conv2d_87 (Conv2D)           (None, 32, 480, 640)      51232     \n",
      "_________________________________________________________________\n",
      "conv2d_88 (Conv2D)           (None, 16, 480, 640)      4624      \n",
      "_________________________________________________________________\n",
      "conv2d_89 (Conv2D)           (None, 4, 480, 640)       580       \n",
      "_________________________________________________________________\n",
      "conv2d_90 (Conv2D)           (None, 1, 480, 640)       37        \n",
      "=================================================================\n",
      "Total params: 108,569\n",
      "Trainable params: 108,569\n",
      "Non-trainable params: 0\n",
      "_________________________________________________________________\n",
      "None\n"
     ]
    },
    {
     "name": "stderr",
     "output_type": "stream",
     "text": [
      "/usr/local/lib/python2.7/dist-packages/ipykernel_launcher.py:15: UserWarning: Update your `Model` call to the Keras 2 API: `Model(outputs=Tensor(\"co..., inputs=Tensor(\"in...)`\n",
      "  from ipykernel import kernelapp as app\n"
     ]
    }
   ],
   "source": [
    "conv1 = Conv2D(32, 5, activation = 'relu', padding = 'same', kernel_initializer = 'he_normal',data_format='channels_first')(inputs)\n",
    "\n",
    "conv2 = Conv2D(64, 5, activation = 'relu', padding = 'same', kernel_initializer = 'he_normal',data_format='channels_first')(conv1)\n",
    "\n",
    "conv3 = Conv2D(32, 5, activation = 'relu', padding = 'same', kernel_initializer = 'he_normal',data_format='channels_first')(conv2)\n",
    "\n",
    "conv4 = Conv2D(16, 3, activation = 'relu', padding = 'same', kernel_initializer = 'he_normal',data_format='channels_first')(conv3)\n",
    "#drop4 = Dropout(0.5)(conv4)\n",
    "\n",
    "conv5 = Conv2D(4, 3, activation = 'relu', padding = 'same', kernel_initializer = 'he_normal',data_format='channels_first')(conv4)\n",
    "\n",
    "conv6 = Conv2D(1, 3, activation = 'relu', padding = 'same', kernel_initializer = 'he_normal',data_format='channels_first')(conv5)\n",
    "#drop5 = Dropout(0.5)(conv5)\n",
    "\n",
    "model1 = Model(input = inputs, output = conv6)\n",
    "print model1.summary()\n",
    "model1.compile(optimizer = optimizers.Adam(lr = 1e-4), loss = 'binary_crossentropy', metrics = ['accuracy'])"
   ]
  },
  {
   "cell_type": "code",
   "execution_count": 217,
   "metadata": {},
   "outputs": [
    {
     "name": "stdout",
     "output_type": "stream",
     "text": [
      "Fitting model...\n",
      "Epoch 1/10\n",
      "\r",
      "  1/100 [..............................] - ETA: 13s - loss: 0.3969 - acc: 0.8304"
     ]
    },
    {
     "name": "stderr",
     "output_type": "stream",
     "text": [
      "/usr/local/lib/python2.7/dist-packages/ipykernel_launcher.py:3: UserWarning: The semantics of the Keras 2 argument `steps_per_epoch` is not the same as the Keras 1 argument `samples_per_epoch`. `steps_per_epoch` is the number of batches to draw from the generator at each epoch. Basically steps_per_epoch = samples_per_epoch/batch_size. Similarly `nb_val_samples`->`validation_steps` and `val_samples`->`steps` arguments have changed. Update your method calls accordingly.\n",
      "  This is separate from the ipykernel package so we can avoid doing imports until\n",
      "/usr/local/lib/python2.7/dist-packages/ipykernel_launcher.py:3: UserWarning: Update your `fit_generator` call to the Keras 2 API: `fit_generator(<itertools..., shuffle=True, verbose=1, steps_per_epoch=100, epochs=10, callbacks=[<keras.ca...)`\n",
      "  This is separate from the ipykernel package so we can avoid doing imports until\n"
     ]
    },
    {
     "name": "stdout",
     "output_type": "stream",
     "text": [
      " 99/100 [============================>.] - ETA: 0s - loss: 0.3890 - acc: 0.8321\n",
      "Epoch 00001: loss improved from inf to 0.38894, saving model to unet.hdf5\n",
      "100/100 [==============================] - 10s 100ms/step - loss: 0.3889 - acc: 0.8322\n",
      "Epoch 2/10\n",
      " 99/100 [============================>.] - ETA: 0s - loss: 0.3845 - acc: 0.8345\n",
      "Epoch 00002: loss improved from 0.38894 to 0.38439, saving model to unet.hdf5\n",
      "100/100 [==============================] - 10s 97ms/step - loss: 0.3844 - acc: 0.8345\n",
      "Epoch 3/10\n",
      " 99/100 [============================>.] - ETA: 0s - loss: 0.3850 - acc: 0.8282\n",
      "Epoch 00003: loss did not improve\n",
      "100/100 [==============================] - 10s 97ms/step - loss: 0.3851 - acc: 0.8281\n",
      "Epoch 4/10\n",
      " 99/100 [============================>.] - ETA: 0s - loss: 0.3777 - acc: 0.8301\n",
      "Epoch 00004: loss improved from 0.38439 to 0.37768, saving model to unet.hdf5\n",
      "100/100 [==============================] - 10s 98ms/step - loss: 0.3777 - acc: 0.8301\n",
      "Epoch 5/10\n",
      " 99/100 [============================>.] - ETA: 0s - loss: 0.3708 - acc: 0.8475- ETA: 1s - loss: 0.\n",
      "Epoch 00005: loss improved from 0.37768 to 0.37074, saving model to unet.hdf5\n",
      "100/100 [==============================] - 10s 98ms/step - loss: 0.3707 - acc: 0.8476\n",
      "Epoch 6/10\n",
      " 99/100 [============================>.] - ETA: 0s - loss: 0.3437 - acc: 0.8569\n",
      "Epoch 00006: loss improved from 0.37074 to 0.34374, saving model to unet.hdf5\n",
      "100/100 [==============================] - 10s 98ms/step - loss: 0.3437 - acc: 0.8569\n",
      "Epoch 7/10\n",
      " 99/100 [============================>.] - ETA: 0s - loss: 0.3555 - acc: 0.8448\n",
      "Epoch 00007: loss did not improve\n",
      "100/100 [==============================] - 10s 98ms/step - loss: 0.3555 - acc: 0.8447\n",
      "Epoch 8/10\n",
      " 99/100 [============================>.] - ETA: 0s - loss: 0.3555 - acc: 0.8361- ETA: 1s - loss: 0.\n",
      "Epoch 00008: loss did not improve\n",
      "100/100 [==============================] - 10s 98ms/step - loss: 0.3554 - acc: 0.8361\n",
      "Epoch 9/10\n",
      " 99/100 [============================>.] - ETA: 0s - loss: 0.3503 - acc: 0.8382\n",
      "Epoch 00009: loss did not improve\n",
      "100/100 [==============================] - 10s 99ms/step - loss: 0.3502 - acc: 0.8382\n",
      "Epoch 10/10\n",
      " 99/100 [============================>.] - ETA: 0s - loss: 0.3471 - acc: 0.8389\n",
      "Epoch 00010: loss did not improve\n",
      "100/100 [==============================] - 10s 98ms/step - loss: 0.3470 - acc: 0.8389\n"
     ]
    },
    {
     "data": {
      "text/plain": [
       "<keras.callbacks.History at 0x7f6fe6bdc6d0>"
      ]
     },
     "execution_count": 217,
     "metadata": {},
     "output_type": "execute_result"
    }
   ],
   "source": [
    "model_checkpoint = ModelCheckpoint('unet.hdf5', monitor='loss',verbose=1, save_best_only=True)\n",
    "print('Fitting model...')\n",
    "model1.fit_generator(train_generator, steps_per_epoch=100,nb_epoch=10, verbose=1, shuffle=True, callbacks=[model_checkpoint])"
   ]
  },
  {
   "cell_type": "code",
   "execution_count": 229,
   "metadata": {},
   "outputs": [],
   "source": [
    "test = train_generator.next()\n",
    "X_Test = test[0][0:50]\n",
    "Y_Test = test[1][0:50]"
   ]
  },
  {
   "cell_type": "code",
   "execution_count": 232,
   "metadata": {},
   "outputs": [
    {
     "data": {
      "text/plain": [
       "((1, 1, 480, 640), (1, 1, 480, 640))"
      ]
     },
     "execution_count": 232,
     "metadata": {},
     "output_type": "execute_result"
    }
   ],
   "source": [
    "np.shape(X_Test),np.shape(imgs_mask_test)"
   ]
  },
  {
   "cell_type": "code",
   "execution_count": 236,
   "metadata": {},
   "outputs": [],
   "source": [
    "imgs_mask_test = model1.predict_on_batch(X_Test)"
   ]
  },
  {
   "cell_type": "code",
   "execution_count": 284,
   "metadata": {},
   "outputs": [],
   "source": [
    "%matplotlib inline"
   ]
  },
  {
   "cell_type": "code",
   "execution_count": 242,
   "metadata": {},
   "outputs": [
    {
     "data": {
      "text/plain": [
       "<matplotlib.image.AxesImage at 0x7f6fe71e6290>"
      ]
     },
     "execution_count": 242,
     "metadata": {},
     "output_type": "execute_result"
    },
    {
     "data": {
      "image/png": "[encoded data removed]",
      "text/plain": [
       "<matplotlib.figure.Figure at 0x7f6fe694d2d0>"
      ]
     },
     "metadata": {},
     "output_type": "display_data"
    }
   ],
   "source": [
    "index = np.random.randint(10)\n",
    "img = np.reshape(imgs_mask_test,(img_height,img_width))\n",
    "plt.imshow(img)"
   ]
  },
  {
   "cell_type": "code",
   "execution_count": null,
   "metadata": {},
   "outputs": [],
   "source": []
  }
 ],
 "metadata": {
  "kernelspec": {
   "display_name": "Python 2",
   "language": "python",
   "name": "python2"
  },
  "language_info": {
   "codemirror_mode": {
    "name": "ipython",
    "version": 2
   },
   "file_extension": ".py",
   "mimetype": "text/x-python",
   "name": "python",
   "nbconvert_exporter": "python",
   "pygments_lexer": "ipython2",
   "version": "2.7.12"
  }
 },
 "nbformat": 4,
 "nbformat_minor": 2
}
