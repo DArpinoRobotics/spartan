{
 "cells": [
  {
   "cell_type": "code",
   "execution_count": 1,
   "metadata": {},
   "outputs": [
    {
     "name": "stderr",
     "output_type": "stream",
     "text": [
      "/usr/local/lib/python2.7/dist-packages/ipykernel_launcher.py:5: DeprecationWarning: the sets module is deprecated\n",
      "  \"\"\"\n"
     ]
    }
   ],
   "source": [
    "%load_ext autoreload\n",
    "import sys\n",
    "import os\n",
    "import numpy as np\n",
    "import sets\n",
    "import matplotlib.pyplot as plt\n",
    "import seaborn as sns; sns.set()\n",
    "import tinydb\n",
    "from tinydb import Query\n",
    "\n",
    "\n",
    "SPARTAN_SOURCE_DIR = os.getenv('SPARTAN_SOURCE_DIR')\n",
    "sys.path.append(os.path.join(SPARTAN_SOURCE_DIR, 'src/ContactParticleFilter/python'))\n",
    "\n",
    "import lcm\n",
    "import experimentanalyzer\n",
    "import utils as cpfUtils\n",
    "import spartan.utils.utils as spartanUtils\n",
    "\n",
    "%matplotlib inline"
   ]
  },
  {
   "cell_type": "code",
   "execution_count": 2,
   "metadata": {},
   "outputs": [],
   "source": [
    "configFilename = os.path.join(cpfUtils.getCPFSourceDir(), 'config', 'experiments', 'cpf_experiment_config.yaml')\n",
    "config = spartanUtils.getDictFromYamlFilename(configFilename)\n",
    "\n",
    "pose_names = config[\"poses\"]\n",
    "force_names = config[\"force_names\"]\n",
    "noise_levels = config[\"noise_levels\"]"
   ]
  },
  {
   "cell_type": "code",
   "execution_count": 5,
   "metadata": {},
   "outputs": [],
   "source": [
    "# simulation, fixed base, load the data\n",
    "simLogFolderName=\"20180111-161321_simulation\"\n",
    "ea_sim = experimentanalyzer.ExperimentAnalyzer(logFolderName=simLogFolderName, mode=\"simulation\")\n",
    "ea_sim.run()\n",
    "\n",
    "hardwareLogFolderName =\"20180112-161516_hardware\"\n",
    "ea_hardware = experimentanalyzer.ExperimentAnalyzer(logFolderName=hardwareLogFolderName, mode=\"hardware\")\n",
    "ea_hardware.run()"
   ]
  },
  {
   "cell_type": "code",
   "execution_count": 12,
   "metadata": {},
   "outputs": [
    {
     "data": {
      "text/plain": [
       "{u'mean': 0.01998723938327232, u'std_dev': 0.002278477200733156}"
      ]
     },
     "execution_count": 12,
     "metadata": {},
     "output_type": "execute_result"
    }
   ],
   "source": [
    "d = ea_hardware.db_analysis.all()[0]\n",
    "d['stats']['position']"
   ]
  },
  {
   "cell_type": "code",
   "execution_count": null,
   "metadata": {},
   "outputs": [],
   "source": []
  }
 ],
 "metadata": {
  "kernelspec": {
   "display_name": "Python 2",
   "language": "python",
   "name": "python2"
  },
  "language_info": {
   "codemirror_mode": {
    "name": "ipython",
    "version": 2
   },
   "file_extension": ".py",
   "mimetype": "text/x-python",
   "name": "python",
   "nbconvert_exporter": "python",
   "pygments_lexer": "ipython2",
   "version": "2.7.12"
  }
 },
 "nbformat": 4,
 "nbformat_minor": 2
}
