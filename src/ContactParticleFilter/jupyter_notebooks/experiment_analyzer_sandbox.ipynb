{
 "cells": [
  {
   "cell_type": "code",
   "execution_count": 1,
   "metadata": {},
   "outputs": [],
   "source": [
    "%load_ext autoreload\n",
    "import sys\n",
    "import os\n",
    "import numpy as np\n",
    "SPARTAN_SOURCE_DIR = os.getenv('SPARTAN_SOURCE_DIR')\n",
    "sys.path.append(os.path.join(SPARTAN_SOURCE_DIR, 'src/ContactParticleFilter/python'))\n",
    "\n",
    "import lcm\n",
    "import experimentanalyzer\n",
    "import tinydb"
   ]
  },
  {
   "cell_type": "code",
   "execution_count": 2,
   "metadata": {},
   "outputs": [],
   "source": [
    "ea = experimentanalyzer.ExperimentAnalyzer()"
   ]
  },
  {
   "cell_type": "code",
   "execution_count": 3,
   "metadata": {},
   "outputs": [],
   "source": [
    "ea.run()"
   ]
  },
  {
   "cell_type": "code",
   "execution_count": 10,
   "metadata": {},
   "outputs": [
    {
     "data": {
      "text/plain": [
       "{u'force': {u'mean': 0.0017805794675943166, u'std_dev': 0.0016763359856304192},\n",
       " u'position': {u'mean': 0.0007624602199961689,\n",
       "  u'std_dev': 0.0006415121485784326}}"
      ]
     },
     "execution_count": 10,
     "metadata": {},
     "output_type": "execute_result"
    }
   ],
   "source": [
    "q = tinydb.Query()\n",
    "search_results = ea.db_analysis.search((q.pose_name == 'q_nom') & (q.force_name == 'iiwa_link_5_1'))\n",
    "len(search_results)\n",
    "search_results[0]['stats']"
   ]
  },
  {
   "cell_type": "code",
   "execution_count": 4,
   "metadata": {},
   "outputs": [
    {
     "name": "stdout",
     "output_type": "stream",
     "text": [
      "/home/manuelli/spartan/src/ContactParticleFilter/data/experiments/20180105-165005_simulation/20180105-165046.lcm\n"
     ]
    },
    {
     "data": {
      "text/plain": [
       "lcm.EventLog"
      ]
     },
     "execution_count": 4,
     "metadata": {},
     "output_type": "execute_result"
    }
   ],
   "source": [
    "lcm_log_file = os.path.join(ea.logFolder, ea.db_entry['lcm_log_file'])\n",
    "print lcm_log_file\n",
    "ea.analyzeLog(lcm_log_file)\n",
    "type(ea.lcm_log_reader)"
   ]
  },
  {
   "cell_type": "code",
   "execution_count": 5,
   "metadata": {},
   "outputs": [
    {
     "name": "stdout",
     "output_type": "stream",
     "text": [
      "{'position': {'std_dev': 0.00064151214857843255, 'mean': 0.00076246021999616892}, 'force': {'std_dev': 0.0016763359856304192, 'mean': 0.0017805794675943166}}\n"
     ]
    }
   ],
   "source": [
    "stats = ea.computeStatisticsForSim()\n",
    "print stats"
   ]
  },
  {
   "cell_type": "code",
   "execution_count": 6,
   "metadata": {},
   "outputs": [
    {
     "name": "stdout",
     "output_type": "stream",
     "text": [
      "{'contact_position_in_world': 0.0019349668471201177, 'contact_force_magnitude': 0.0045670452477494542, 'contact_force_in_world': 0.0047716908291365262}\n"
     ]
    }
   ],
   "source": [
    "mc_ecl = ea.message_containers[\"EXTERNAL_CONTACT_LOCATION\"]\n",
    "mc_cpf = ea.message_containers[\"CONTACT_FILTER_POINT_ESTIMATE\"]\n",
    "\n",
    "idx = 1\n",
    "msg_cpf = mc_cpf.messages[idx]\n",
    "timestamp = mc_cpf.timestamps[idx]\n",
    "\n",
    "msg_ecl = mc_ecl.get_message(timestamp)\n",
    "\n",
    "d = ea.computeSingleMessageStatisticsSim(msg_cpf, msg_ecl)\n",
    "print d"
   ]
  },
  {
   "cell_type": "code",
   "execution_count": 6,
   "metadata": {},
   "outputs": [
    {
     "data": {
      "text/plain": [
       "0.81649658092772603"
      ]
     },
     "execution_count": 6,
     "metadata": {},
     "output_type": "execute_result"
    }
   ],
   "source": [
    "a = np.array([1,2,3])\n",
    "np.std(a)"
   ]
  },
  {
   "cell_type": "code",
   "execution_count": 7,
   "metadata": {},
   "outputs": [
    {
     "name": "stdout",
     "output_type": "stream",
     "text": [
      "hello\n",
      "hello\n",
      "hello\n",
      "hello\n",
      "hello\n",
      "hello\n",
      "hello\n",
      "hello\n",
      "hello\n",
      "hello\n"
     ]
    }
   ],
   "source": [
    "for i in xrange(10):\n",
    "    print \"hello\""
   ]
  },
  {
   "cell_type": "code",
   "execution_count": null,
   "metadata": {},
   "outputs": [],
   "source": [
    "math.as"
   ]
  }
 ],
 "metadata": {
  "kernelspec": {
   "display_name": "Python 2",
   "language": "python",
   "name": "python2"
  },
  "language_info": {
   "codemirror_mode": {
    "name": "ipython",
    "version": 2
   },
   "file_extension": ".py",
   "mimetype": "text/x-python",
   "name": "python",
   "nbconvert_exporter": "python",
   "pygments_lexer": "ipython2",
   "version": "2.7.12"
  }
 },
 "nbformat": 4,
 "nbformat_minor": 2
}
