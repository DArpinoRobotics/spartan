{
 "cells": [
  {
   "cell_type": "code",
   "execution_count": 51,
   "metadata": {},
   "outputs": [
    {
     "name": "stdout",
     "output_type": "stream",
     "text": [
      "The autoreload extension is already loaded. To reload it, use:\n",
      "  %reload_ext autoreload\n"
     ]
    }
   ],
   "source": [
    "%load_ext autoreload\n",
    "import sys\n",
    "import os\n",
    "import numpy as np\n",
    "import sets\n",
    "import matplotlib.pyplot as plt\n",
    "import seaborn as sns; sns.set()\n",
    "\n",
    "SPARTAN_SOURCE_DIR = os.getenv('SPARTAN_SOURCE_DIR')\n",
    "sys.path.append(os.path.join(SPARTAN_SOURCE_DIR, 'src/ContactParticleFilter/python'))\n",
    "\n",
    "import lcm\n",
    "import experimentanalyzer\n",
    "import tinydb\n",
    "from tinydb import Query\n",
    "\n",
    "%matplotlib inline"
   ]
  },
  {
   "cell_type": "code",
   "execution_count": 89,
   "metadata": {},
   "outputs": [],
   "source": [
    "# logFolderName=\"20180105-165005_simulation\"\n",
    "logFolderName=\"20180111-000832_simulation\"\n",
    "ea = experimentanalyzer.ExperimentAnalyzer(logFolderName=logFolderName)\n",
    "ea.run()"
   ]
  },
  {
   "cell_type": "code",
   "execution_count": 90,
   "metadata": {},
   "outputs": [
    {
     "name": "stdout",
     "output_type": "stream",
     "text": [
      "num_forces =  3\n",
      "num_poses =  2\n",
      "(3, 2)\n",
      "\n",
      "\n",
      "position\n",
      "force\n"
     ]
    },
    {
     "data": {
      "image/png": "[encoded data removed]",
      "text/plain": [
       "<matplotlib.figure.Figure at 0x7f6523398ad0>"
      ]
     },
     "metadata": {},
     "output_type": "display_data"
    },
    {
     "data": {
      "image/png": "[encoded data removed]",
      "text/plain": [
       "<matplotlib.figure.Figure at 0x7f65233a4710>"
      ]
     },
     "metadata": {},
     "output_type": "display_data"
    }
   ],
   "source": [
    "pose_names = sets.Set()\n",
    "force_names = sets.Set()\n",
    "for entry in ea.db_analysis.all():\n",
    "    pose_names.add(entry['pose_name'])\n",
    "    force_names.add(entry['force_name'])\n",
    "\n",
    "    \n",
    "pose_names = list(pose_names)\n",
    "force_names = list(force_names)\n",
    "\n",
    "color = ['r','g','b']\n",
    "\n",
    "\"\"\"\n",
    "Make heatmap of average position error.\n",
    "x-axis: contact location\n",
    "y-axis: robot pose\n",
    "\n",
    "should be three tables, one for each noise level \n",
    "\"\"\"\n",
    "def contact_location_accuracy_heatmap(pose_names, force_names, db_analysis, noise_level=None):\n",
    "    num_poses = len(pose_names)\n",
    "    num_forces = len(force_names)\n",
    "    bar_width = 0.7/num_poses\n",
    "    \n",
    "    vals = np.zeros([num_forces, num_poses])\n",
    "    std_dev = np.zeros([num_forces, num_poses])\n",
    "    \n",
    "    force_val = np.zeros([num_forces, num_poses])\n",
    "    force_std_dev = np.zeros([num_forces, num_poses])\n",
    "    \n",
    "    print \"num_forces = \", num_forces\n",
    "    print \"num_poses = \", num_poses\n",
    "    print np.shape(vals)\n",
    "    \n",
    "    \n",
    "    for j, pose_name in enumerate(pose_names):\n",
    "        for i, force_name in enumerate(force_names):\n",
    "            q = tinydb.Query()\n",
    "            res = ea.db_analysis.search( (q.pose_name == pose_name) & (q.force_name == force_name))[0]\n",
    "            vals[i,j] = res['stats']['position']['mean']\n",
    "            std_dev[i,j] = res['stats']['position']['std_dev']\n",
    "            \n",
    "            force_val[i,j] = res['stats']['force']['mean']\n",
    "            force_std_dev[i,j] = res['stats']['force']['std_dev']\n",
    "\n",
    "            \n",
    "    print \"\\n\"\n",
    "    print \"position\"\n",
    "    plt.figure()\n",
    "    ax_position = sns.heatmap(vals, cmap=\"YlGnBu\")\n",
    "    \n",
    "    \n",
    "    print \"force\"\n",
    "    plt.figure()\n",
    "    ax_force = sns.heatmap(force_val, cmap=\"YlGnBu\")\n",
    "#     return ax\n",
    "\n",
    "    \n",
    "\"\"\"\n",
    "Heatmap\n",
    "\"\"\"\n",
    "\n",
    "# def contact_location_accuracy_vs_contact_location(pose_names, force_names, db_analysis, noise_level=None):\n",
    "    \n",
    "\n",
    "contact_location_accuracy_heatmap(pose_names, force_names, ea.db_analysis)"
   ]
  },
  {
   "cell_type": "markdown",
   "metadata": {},
   "source": [
    "# Simulation Only Figures\n",
    "We should make several heatmaps showing the results for simulation from the kuka\n",
    "- Contact location accuracy for each (force_location, robot_pose) pair\n",
    "- Contact Force Accuracy for each (force_location, robot_pose) pair"
   ]
  },
  {
   "cell_type": "code",
   "execution_count": 48,
   "metadata": {},
   "outputs": [
    {
     "name": "stdout",
     "output_type": "stream",
     "text": [
      "20180105-165102.lcm\n"
     ]
    }
   ],
   "source": [
    "q = Query()\n",
    "e = ea.db_analysis.search((q.pose_name == \"q_nom_down\") & (q.force_name == 'iiwa_link_6_1'))[0]\n",
    "print e['lcm_log_file']"
   ]
  },
  {
   "cell_type": "code",
   "execution_count": 55,
   "metadata": {},
   "outputs": [
    {
     "data": {
      "image/png": "[encoded data removed]",
      "text/plain": [
       "<matplotlib.figure.Figure at 0x7f65294cd590>"
      ]
     },
     "metadata": {},
     "output_type": "display_data"
    }
   ],
   "source": [
    "uniform_data = np.random.rand(10, 4)\n",
    "labels = ['a','b','c','d']\n",
    "\n",
    "ax = sns.heatmap(uniform_data, xticklabels=labels)"
   ]
  },
  {
   "cell_type": "code",
   "execution_count": 91,
   "metadata": {},
   "outputs": [
    {
     "name": "stdout",
     "output_type": "stream",
     "text": [
      "1\n",
      "[2, 3]\n"
     ]
    }
   ],
   "source": [
    "a = [1,2,3]\n",
    "b = a.pop(0)\n",
    "print b\n",
    "print a"
   ]
  },
  {
   "cell_type": "code",
   "execution_count": 92,
   "metadata": {},
   "outputs": [
    {
     "data": {
      "text/plain": [
       "1"
      ]
     },
     "execution_count": 92,
     "metadata": {},
     "output_type": "execute_result"
    }
   ],
   "source": [
    "a = (1,2,3)\n",
    "a[0]"
   ]
  },
  {
   "cell_type": "code",
   "execution_count": null,
   "metadata": {},
   "outputs": [],
   "source": []
  }
 ],
 "metadata": {
  "kernelspec": {
   "display_name": "Python 2",
   "language": "python",
   "name": "python2"
  },
  "language_info": {
   "codemirror_mode": {
    "name": "ipython",
    "version": 2
   },
   "file_extension": ".py",
   "mimetype": "text/x-python",
   "name": "python",
   "nbconvert_exporter": "python",
   "pygments_lexer": "ipython2",
   "version": "2.7.12"
  }
 },
 "nbformat": 4,
 "nbformat_minor": 2
}
