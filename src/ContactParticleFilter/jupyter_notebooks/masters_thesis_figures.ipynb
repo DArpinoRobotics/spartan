{
 "cells": [
  {
   "cell_type": "code",
   "execution_count": 1,
   "metadata": {},
   "outputs": [
    {
     "name": "stderr",
     "output_type": "stream",
     "text": [
      "/usr/local/lib/python2.7/dist-packages/ipykernel_launcher.py:5: DeprecationWarning: the sets module is deprecated\n",
      "  \"\"\"\n"
     ]
    }
   ],
   "source": [
    "%load_ext autoreload\n",
    "import sys\n",
    "import os\n",
    "import numpy as np\n",
    "import sets\n",
    "import matplotlib.pyplot as plt\n",
    "import seaborn as sns; sns.set()\n",
    "import tinydb\n",
    "from tinydb import Query\n",
    "\n",
    "\n",
    "SPARTAN_SOURCE_DIR = os.getenv('SPARTAN_SOURCE_DIR')\n",
    "sys.path.append(os.path.join(SPARTAN_SOURCE_DIR, 'src/ContactParticleFilter/python'))\n",
    "\n",
    "import lcm\n",
    "import experimentanalyzer\n",
    "import utils as cpfUtils\n",
    "import spartan.utils.utils as spartanUtils\n",
    "\n",
    "%matplotlib inline"
   ]
  },
  {
   "cell_type": "code",
   "execution_count": 2,
   "metadata": {},
   "outputs": [],
   "source": [
    "# logFolderName=\"20180105-165005_simulation\"\n",
    "\n",
    "\n",
    "configFilename = os.path.join(cpfUtils.getCPFSourceDir(), 'config', 'experiments', 'cpf_experiment_config.yaml')\n",
    "config = spartanUtils.getDictFromYamlFilename(configFilename)\n",
    "\n",
    "pose_names = config[\"poses\"]\n",
    "force_names = config[\"force_names\"]\n",
    "noise_levels = config[\"noise_levels\"]"
   ]
  },
  {
   "cell_type": "code",
   "execution_count": 11,
   "metadata": {},
   "outputs": [],
   "source": [
    "# pose_names = sets.Set()\n",
    "# force_names = sets.Set()\n",
    "# for entry in ea.db_analysis.all():\n",
    "#     pose_names.add(entry['pose_name'])\n",
    "#     force_names.add(entry['force_name'])\n",
    "\n",
    "color = ['r','g','b']\n",
    "\n",
    "\"\"\"\n",
    "Make heatmap of average position error.\n",
    "x-axis: contact location\n",
    "y-axis: robot pose\n",
    "\n",
    "should be three tables, one for each noise level \n",
    "\"\"\"\n",
    "def contact_location_accuracy_heatmap(pose_names, force_names, db_analysis, noise_levels, **kwargs):\n",
    "    num_poses = len(pose_names)\n",
    "    num_forces = len(force_names)\n",
    "    bar_width = 0.7/num_poses\n",
    "    \n",
    "    template = np.zeros([num_forces, num_poses])\n",
    "    \n",
    "    pos = dict()\n",
    "    force = dict()\n",
    "    \n",
    "#     std_dev = dict()\n",
    "#     std_dev = np.zeros([num_forces, num_poses])\n",
    "    \n",
    "    \n",
    "    \n",
    "    force_val = np.zeros([num_forces, num_poses])\n",
    "    force_std_dev = np.zeros([num_forces, num_poses])\n",
    "    \n",
    "    \n",
    "#     width_ratios = [1]*len(noise_levels)\n",
    "#     width_ratios.append(0.08)\n",
    "#     pos_fix, pos_ax = plt.subplots(1, len(noise_levels)+1, gridspec_kw={'width_ratios':width_ratios})\n",
    "       \n",
    "    for k, noise_level in enumerate(noise_levels):\n",
    "        pos[noise_level] = np.copy(template)\n",
    "        force[noise_level] = np.copy(template)\n",
    "        pos_vals = pos[noise_level]\n",
    "        force_vals = force[noise_level]\n",
    "        for j, pose_name in enumerate(pose_names):\n",
    "            for i, force_name in enumerate(force_names):\n",
    "                q = tinydb.Query()\n",
    "                res = db_analysis.search( (q.pose_name == pose_name) & (q.force_name == force_name)\n",
    "                                           & (q.noise_level == noise_level) )[0]\n",
    "                pos_vals[i,j] = res['stats']['position']['mean']\n",
    "#                 std_dev[i,j] = res['stats']['position']['std_dev']\n",
    "\n",
    "                force_vals[i,j] = res['stats']['force']['mean']\n",
    "#                 force_std_dev[i,j] = res['stats']['force']['std_dev']\n",
    "\n",
    "            \n",
    "    # now actually make the plots\n",
    "    makeSubplotAcrossNoiseLevels(pos, noise_levels, **kwargs)\n",
    "    makeSubplotAcrossNoiseLevels(force, noise_levels, **kwargs)\n",
    "\n",
    "    \n",
    "\"\"\"\n",
    "Takes data in dict/numpy_array form and makes a nice plot\n",
    "\"\"\"\n",
    "def makeSubplotAcrossNoiseLevels(data, noise_levels, xlabel=\"pose\", ylabel=\"force location\", addTitles=True):\n",
    "    width_ratios = [1]*len(noise_levels)\n",
    "    width_ratios.append(0.08)\n",
    "    fig, axes = plt.subplots(1, len(noise_levels)+1, gridspec_kw={'width_ratios':width_ratios})\n",
    "    \n",
    "    # now we make the plots\n",
    "    kwargs = dict()\n",
    "    kwargs['linewidths'] = 0.5\n",
    "#     kwargs['square'] = True\n",
    "    axcb = axes[-1]\n",
    "    axes[0].get_shared_y_axes().join(*axes[0:-1])\n",
    "    for k, noise_level in enumerate(noise_levels):\n",
    "        ax = axes[k]\n",
    "        \n",
    "        # special logic it's the rightmost one\n",
    "        if k == (len(noise_levels) - 1):\n",
    "            g = sns.heatmap(data[noise_level], cmap=\"YlGnBu\", ax=ax, cbar=True, cbar_ax=axcb, **kwargs)\n",
    "            \n",
    "        else:\n",
    "            g = sns.heatmap(data[noise_level], cmap=\"YlGnBu\", cbar=False, ax=ax ,  **kwargs)    \n",
    "        \n",
    "        g.set_xlabel(xlabel)\n",
    "        \n",
    "        if addTitles:\n",
    "            title = \"Noise \" + str(noise_level)\n",
    "            g.set_title(title)\n",
    "        \n",
    "        if k == 0:\n",
    "            g.set_ylabel(ylabel)\n",
    "        \n",
    "        if k > 0:\n",
    "            g.set_yticks([])\n",
    "    \n",
    "    \n",
    "\n"
   ]
  },
  {
   "cell_type": "markdown",
   "metadata": {},
   "source": [
    "# Simulation Fixed Base Figures\n",
    "We should make several heatmaps showing the results for simulation from the kuka\n",
    "- Contact location accuracy for each (force_location, robot_pose) pair\n",
    "- Contact Force Accuracy for each (force_location, robot_pose) pair"
   ]
  },
  {
   "cell_type": "code",
   "execution_count": 4,
   "metadata": {},
   "outputs": [],
   "source": [
    "# simulation, fixed base, load the data\n",
    "simLogFolderName=\"20180111-161321_simulation\"\n",
    "ea_sim = experimentanalyzer.ExperimentAnalyzer(logFolderName=simLogFolderName)\n",
    "ea_sim.run()\n",
    "\n",
    "# hardwareLogFolderName =\"20180112-161516_hardware\"\n",
    "# ea_hardware = experimentanalyzer.ExperimentAnalyzer(logFolderName=hardwareLogFolderName, mode=\"hardware\")\n",
    "# ea_hardware.run()"
   ]
  },
  {
   "cell_type": "code",
   "execution_count": 6,
   "metadata": {},
   "outputs": [
    {
     "data": {
      "image/png": "[encoded data removed]",
      "text/plain": [
       "<matplotlib.figure.Figure at 0x7fbfa3261450>"
      ]
     },
     "metadata": {},
     "output_type": "display_data"
    },
    {
     "data": {
      "image/png": "[encoded data removed]",
      "text/plain": [
       "<matplotlib.figure.Figure at 0x7fbfa3158750>"
      ]
     },
     "metadata": {},
     "output_type": "display_data"
    }
   ],
   "source": [
    "# make figures\n",
    "contact_location_accuracy_heatmap(pose_names, force_names, ea_sim.db_analysis, noise_levels)"
   ]
  },
  {
   "cell_type": "markdown",
   "metadata": {},
   "source": [
    "# Simulation Floating Base"
   ]
  },
  {
   "cell_type": "code",
   "execution_count": 7,
   "metadata": {},
   "outputs": [],
   "source": [
    "# load the data for a simulation run with Floating base\n",
    "logFolder = None"
   ]
  },
  {
   "cell_type": "markdown",
   "metadata": {},
   "source": [
    "# Hardware"
   ]
  },
  {
   "cell_type": "code",
   "execution_count": 8,
   "metadata": {},
   "outputs": [],
   "source": [
    "# load the data for hardware run\n",
    "# simulation, fixed base, load the data\n",
    "\n",
    "hardwareLogFolderName =\"20180112-161516_hardware\"\n",
    "ea_hardware = experimentanalyzer.ExperimentAnalyzer(logFolderName=hardwareLogFolderName, mode=\"hardware\")\n",
    "ea_hardware.run()"
   ]
  },
  {
   "cell_type": "code",
   "execution_count": 12,
   "metadata": {},
   "outputs": [
    {
     "data": {
      "image/png": "[encoded data removed]",
      "text/plain": [
       "<matplotlib.figure.Figure at 0x7fbfa2df5ad0>"
      ]
     },
     "metadata": {},
     "output_type": "display_data"
    },
    {
     "data": {
      "image/png": "[encoded data removed]",
      "text/plain": [
       "<matplotlib.figure.Figure at 0x7fbfa2d738d0>"
      ]
     },
     "metadata": {},
     "output_type": "display_data"
    }
   ],
   "source": [
    "# make figures\n",
    "contact_location_accuracy_heatmap(pose_names, force_names, ea_sim.db_analysis, noise_levels=[0], addTitles=False)"
   ]
  },
  {
   "cell_type": "code",
   "execution_count": null,
   "metadata": {},
   "outputs": [],
   "source": []
  }
 ],
 "metadata": {
  "kernelspec": {
   "display_name": "Python 2",
   "language": "python",
   "name": "python2"
  },
  "language_info": {
   "codemirror_mode": {
    "name": "ipython",
    "version": 2
   },
   "file_extension": ".py",
   "mimetype": "text/x-python",
   "name": "python",
   "nbconvert_exporter": "python",
   "pygments_lexer": "ipython2",
   "version": "2.7.12"
  }
 },
 "nbformat": 4,
 "nbformat_minor": 2
}
