{
 "cells": [
  {
   "cell_type": "code",
   "execution_count": 1,
   "metadata": {},
   "outputs": [
    {
     "name": "stderr",
     "output_type": "stream",
     "text": [
      "/usr/local/lib/python2.7/dist-packages/ipykernel_launcher.py:5: DeprecationWarning: the sets module is deprecated\n",
      "  \"\"\"\n"
     ]
    }
   ],
   "source": [
    "%load_ext autoreload\n",
    "import sys\n",
    "import os\n",
    "import numpy as np\n",
    "import sets\n",
    "import matplotlib.pyplot as plt\n",
    "import seaborn as sns; sns.set()\n",
    "import tinydb\n",
    "from tinydb import Query\n",
    "\n",
    "\n",
    "SPARTAN_SOURCE_DIR = os.getenv('SPARTAN_SOURCE_DIR')\n",
    "sys.path.append(os.path.join(SPARTAN_SOURCE_DIR, 'src/ContactParticleFilter/python'))\n",
    "\n",
    "import lcm\n",
    "import experimentanalyzer\n",
    "import utils as cpfUtils\n",
    "import spartan.utils.utils as spartanUtils\n",
    "\n",
    "%matplotlib inline"
   ]
  },
  {
   "cell_type": "code",
   "execution_count": 2,
   "metadata": {},
   "outputs": [],
   "source": [
    "# logFolderName=\"20180105-165005_simulation\"\n",
    "\n",
    "\n",
    "configFilename = os.path.join(cpfUtils.getCPFSourceDir(), 'config', 'experiments', 'cpf_experiment_config.yaml')\n",
    "config = spartanUtils.getDictFromYamlFilename(configFilename)\n",
    "\n",
    "pose_names = config[\"poses\"]\n",
    "force_names = config[\"force_names\"]\n",
    "noise_levels = config[\"noise_levels\"]"
   ]
  },
  {
   "cell_type": "code",
   "execution_count": 3,
   "metadata": {},
   "outputs": [],
   "source": [
    "# pose_names = sets.Set()\n",
    "# force_names = sets.Set()\n",
    "# for entry in ea.db_analysis.all():\n",
    "#     pose_names.add(entry['pose_name'])\n",
    "#     force_names.add(entry['force_name'])\n",
    "\n",
    "color = ['r','g','b']\n",
    "\n",
    "\"\"\"\n",
    "Make heatmap of average position error.\n",
    "x-axis: contact location\n",
    "y-axis: robot pose\n",
    "\n",
    "should be three tables, one for each noise level \n",
    "\"\"\"\n",
    "def contact_location_accuracy_heatmap(pose_names, force_names, db_analysis, noise_levels,\\\n",
    "                                      force_name_map=None, **kwargs):\n",
    "    num_poses = len(pose_names)\n",
    "    num_forces = len(force_names)\n",
    "    \n",
    "    template = np.zeros([num_forces, num_poses])\n",
    "    \n",
    "    pos = dict()\n",
    "    angle = dict()\n",
    "    force = dict()\n",
    "    \n",
    "#     std_dev = dict()\n",
    "#     std_dev = np.zeros([num_forces, num_poses])\n",
    "    \n",
    "    \n",
    "    \n",
    "    force_val = np.zeros([num_forces, num_poses])\n",
    "    force_std_dev = np.zeros([num_forces, num_poses])\n",
    "    \n",
    "    \n",
    "#     width_ratios = [1]*len(noise_levels)\n",
    "#     width_ratios.append(0.08)\n",
    "#     pos_fix, pos_ax = plt.subplots(1, len(noise_levels)+1, gridspec_kw={'width_ratios':width_ratios})\n",
    "       \n",
    "    for k, noise_level in enumerate(noise_levels):\n",
    "        pos[noise_level] = np.copy(template)\n",
    "        force[noise_level] = np.copy(template)\n",
    "        angle[noise_level] = np.copy(template)\n",
    "        \n",
    "        pos_vals = pos[noise_level]\n",
    "        force_vals = force[noise_level]\n",
    "        angle_vals = angle[noise_level]\n",
    "        \n",
    "        for j, pose_name in enumerate(pose_names):\n",
    "            for i, force_name in enumerate(force_names):\n",
    "                q = tinydb.Query()\n",
    "                \n",
    "                if force_name_map is not None:\n",
    "                    force_name = force_name_map[force_name]\n",
    "                    \n",
    "                res = db_analysis.search( (q.pose_name == pose_name) & (q.force_name == force_name)\n",
    "                                           & (q.noise_level == noise_level) )\n",
    "                \n",
    "                \n",
    "                pos_list = []\n",
    "                force_list = []\n",
    "                angle_list = []\n",
    "                for trial in res:\n",
    "                    pos_list.append(100*trial['stats']['position']['mean'])\n",
    "                    force_list.append(100*trial['stats']['force']['mean'])\n",
    "                    angle_list.append(trial['stats']['angle']['mean'])\n",
    "                \n",
    "                \n",
    "                \n",
    "                pos_avg = np.average(np.array(pos_list))\n",
    "                force_avg = np.average(np.array(force_list))\n",
    "                angle_avg = np.average(np.array(angle_list))\n",
    "                \n",
    "                # scale it to be in cm\n",
    "                pos_vals[i,j] = pos_avg\n",
    "#                 std_dev[i,j] = res['stats']['position']['std_dev']\n",
    "\n",
    "                force_vals[i,j] = force_avg\n",
    "#                 force_std_dev[i,j] = res['stats']['force']['std_dev']\n",
    "\n",
    "                angle_vals[i,j] = angle_avg\n",
    "\n",
    "            \n",
    "    # now actually make the plots\n",
    "    makeSubplotAcrossNoiseLevels(pos, noise_levels, cbar_label=\"force location error (cm)\", **kwargs)\n",
    "    makeSubplotAcrossNoiseLevels(force, noise_levels, cbar_label=\"force magnitude error (%)\", **kwargs)\n",
    "    makeSubplotAcrossNoiseLevels(angle, noise_levels, cbar_label=\"force direction error (deg)\", **kwargs)\n",
    "\n",
    "    \n",
    "\"\"\"\n",
    "Takes data in dict/numpy_array form and makes a nice plot\n",
    "\"\"\"\n",
    "def makeSubplotAcrossNoiseLevels(data, noise_levels, xlabel=\"pose\", ylabel=\"contact location\", \\\n",
    "                                 addTitles=True, cbar_label=\"cbar label\"):\n",
    "    width_ratios = [1]*len(noise_levels)\n",
    "    width_ratios.append(0.08)\n",
    "    fig, axes = plt.subplots(1, len(noise_levels)+1, gridspec_kw={'width_ratios':width_ratios})\n",
    "    \n",
    "    # now we make the plots\n",
    "    kwargs = dict()\n",
    "    kwargs['linewidths'] = 0.5\n",
    "#     kwargs['square'] = True\n",
    "    axcb = axes[-1]\n",
    "    axes[0].get_shared_y_axes().join(*axes[0:-1])\n",
    "    for k, noise_level in enumerate(noise_levels):\n",
    "        ax = axes[k]\n",
    "        \n",
    "        # special logic it's the rightmost one\n",
    "        if k == (len(noise_levels) - 1):\n",
    "            g = sns.heatmap(data[noise_level], cmap=\"YlGnBu\", ax=ax, cbar=True,\\\n",
    "                            cbar_ax=axcb, cbar_kws={'label': cbar_label}, **kwargs)\n",
    "            \n",
    "        else:\n",
    "            g = sns.heatmap(data[noise_level], cmap=\"YlGnBu\", cbar=False, ax=ax ,  **kwargs)    \n",
    "        \n",
    "        g.set_xlabel(xlabel)\n",
    "        \n",
    "        if addTitles:\n",
    "            title = \"Noise \" + str(noise_level)\n",
    "            g.set_title(title)\n",
    "        \n",
    "        if k == 0:\n",
    "            g.set_ylabel(ylabel)\n",
    "        \n",
    "        if k > 0:\n",
    "            g.set_yticks([])\n",
    "    \n",
    "    \n",
    "\n"
   ]
  },
  {
   "cell_type": "markdown",
   "metadata": {},
   "source": [
    "# Simulation Fixed Base Figures\n",
    "We should make several heatmaps showing the results for simulation from the kuka\n",
    "- Contact location accuracy for each (force_location, robot_pose) pair\n",
    "- Contact Force Accuracy for each (force_location, robot_pose) pair"
   ]
  },
  {
   "cell_type": "code",
   "execution_count": 4,
   "metadata": {},
   "outputs": [],
   "source": [
    "# simulation, fixed base, load the data\n",
    "# simLogFolderName=\"20180111-161321_simulation\"\n",
    "# simLogFolderName = \"20180116-151327_simulation\"\n",
    "simLogFolderName = \"20180116-155538_simulation\" # working well\n",
    "# simLogFolderName = \"20180116-175240_simulation\"\n",
    "simLogFolderName = \"20180116-182327_simulation\" # 3 runs of each\n",
    "simLogFolderName = \"20180116-195014_simulation\"\n",
    "ea_sim = experimentanalyzer.ExperimentAnalyzer(logFolderName=simLogFolderName)\n",
    "ea_sim.run()\n",
    "\n",
    "# simLogFolderName_2 = \"20180116-155538_simulation\" # working well\n",
    "# ea_sim_2 = experimentanalyzer.ExperimentAnalyzer(logFolderName=simLogFolderName_2)\n",
    "# ea_sim_2.run()\n",
    "\n",
    "# hardwareLogFolderName =\"20180112-161516_hardware\"\n",
    "# ea_hardware = experimentanalyzer.ExperimentAnalyzer(logFolderName=hardwareLogFolderName, mode=\"hardware\")\n",
    "# ea_hardware.run()"
   ]
  },
  {
   "cell_type": "code",
   "execution_count": 5,
   "metadata": {},
   "outputs": [
    {
     "data": {
      "image/png": "[encoded data removed]",
      "text/plain": [
       "<matplotlib.figure.Figure at 0x7f783b991f90>"
      ]
     },
     "metadata": {},
     "output_type": "display_data"
    },
    {
     "data": {
      "image/png": "[encoded data removed]",
      "text/plain": [
       "<matplotlib.figure.Figure at 0x7f783b900d50>"
      ]
     },
     "metadata": {},
     "output_type": "display_data"
    },
    {
     "data": {
      "image/png": "[encoded data removed]",
      "text/plain": [
       "<matplotlib.figure.Figure at 0x7f7839239390>"
      ]
     },
     "metadata": {},
     "output_type": "display_data"
    }
   ],
   "source": [
    "# make figures\n",
    "contact_location_accuracy_heatmap(pose_names, force_names, ea_sim.db_analysis, noise_levels)\n",
    "# contact_location_accuracy_heatmap(pose_names, force_names, ea_sim_2.db_analysis, noise_levels)"
   ]
  },
  {
   "cell_type": "markdown",
   "metadata": {},
   "source": [
    "# Simulation Floating Base"
   ]
  },
  {
   "cell_type": "code",
   "execution_count": 6,
   "metadata": {},
   "outputs": [],
   "source": [
    "# load the data for a simulation run with Floating base\n",
    "logFolder = None"
   ]
  },
  {
   "cell_type": "markdown",
   "metadata": {},
   "source": [
    "# Hardware"
   ]
  },
  {
   "cell_type": "code",
   "execution_count": null,
   "metadata": {},
   "outputs": [],
   "source": [
    "# load the data for hardware run\n",
    "# simulation, fixed base, load the data\n",
    "\n",
    "# this is just copied from the yaml config file for safe keeping\n",
    "# poses: ['q_nom', 'q_nom_down', 'forward', 'twist']\n",
    "hardware_force_names = ['iiwa_link_7_1', 'iiwa_link_4_1', 'iiwa_link_5_1', 'iiwa_link_5_2', 'iiwa_link_6_3', 'iiwa_link_6_1'] \n",
    "\n",
    "\n",
    "# need to figure out a mapping from force_names in yaml file (and what's used in above sim plots) to what\n",
    "# we actually did in the hardware experiments\n",
    "\n",
    "\n",
    "# full hardware run with above poses and force names\n",
    "hardwareLogFolderName = \"20180116-153439_hardware\"\n",
    "hardware_force_name_map = dict()\n",
    "# maps force_names from sim to this particular hardware run\n",
    "hardware_force_name_map['iiwa_link_6_3'] = 'iiwa_link_7_1'\n",
    "hardware_force_name_map['iiwa_link_4_1'] = 'iiwa_link_4_1'\n",
    "hardware_force_name_map['iiwa_link_5_1'] = 'iiwa_link_5_1'\n",
    "hardware_force_name_map['iiwa_link_5_2'] = 'iiwa_link_5_2'\n",
    "hardware_force_name_map['iiwa_link_6_1'] = 'iiwa_link_6_3'\n",
    "hardware_force_name_map['iiwa_link_6_2'] = 'iiwa_link_6_1'\n",
    "\n",
    "\n",
    "ea_hardware = experimentanalyzer.ExperimentAnalyzer(logFolderName=hardwareLogFolderName, mode=\"hardware\")\n",
    "ea_hardware.run()"
   ]
  },
  {
   "cell_type": "code",
   "execution_count": null,
   "metadata": {},
   "outputs": [],
   "source": [
    "# make figures\n",
    "contact_location_accuracy_heatmap(pose_names, force_names, ea_hardware.db_analysis, noise_levels=[0],\\\n",
    "                                  addTitles=False, force_name_map=hardware_force_name_map)"
   ]
  },
  {
   "cell_type": "code",
   "execution_count": null,
   "metadata": {},
   "outputs": [],
   "source": [
    "idx = 5\n",
    "hardware_name = hardware_force_names[idx]\n",
    "q = Query()\n",
    "pose_name = \"q_nom\"\n",
    "res = ea_hardware.db_analysis.search( (q.pose_name == pose_name) & (q.force_name == hardware_name))[0]\n",
    "print \"hardware_name  = \", hardware_name\n",
    "print res['lcm_log_file']"
   ]
  },
  {
   "cell_type": "code",
   "execution_count": null,
   "metadata": {},
   "outputs": [],
   "source": [
    "hardware_force_name_map = dict()\n",
    "hardware_force_name_map['iiwa_link_7_1'] = 'iiwa_link_6_3'\n",
    "hardware_force_name_map['iiwa_link_4_1'] = 'iiwa_link_4_1'\n",
    "hardware_force_name_map['iiwa_link_5_1'] = 'iiwa_link_5_1'\n",
    "hardware_force_name_map['iiwa_link_5_2'] = 'iiwa_link_5_2'\n",
    "hardware_force_name_map['iiwa_link_6_3'] = 'iiwa_link_6_1'\n",
    "hardware_force_name_map['iiwa_link_6_1'] = 'iiwa_link_6_2'\n"
   ]
  }
 ],
 "metadata": {
  "kernelspec": {
   "display_name": "Python 2",
   "language": "python",
   "name": "python2"
  },
  "language_info": {
   "codemirror_mode": {
    "name": "ipython",
    "version": 2
   },
   "file_extension": ".py",
   "mimetype": "text/x-python",
   "name": "python",
   "nbconvert_exporter": "python",
   "pygments_lexer": "ipython2",
   "version": "2.7.12"
  }
 },
 "nbformat": 4,
 "nbformat_minor": 2
}
